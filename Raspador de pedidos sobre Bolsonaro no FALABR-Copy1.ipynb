{
 "cells": [
  {
   "cell_type": "code",
   "execution_count": 137,
   "id": "f6a4f537",
   "metadata": {},
   "outputs": [],
   "source": [
    "# import everything that I will use\n",
    "import re\n",
    "import pandas as pd\n",
    "import time\n",
    "from selenium import webdriver\n",
    "from selenium.webdriver.common.keys import Keys\n",
    "from selenium.webdriver.common.by import By\n",
    "from selenium.webdriver.support import expected_conditions as EC\n",
    "from selenium.webdriver.support.ui import Select\n",
    "from webdriver_manager.chrome import ChromeDriverManager\n",
    "from selenium.webdriver.support.ui import WebDriverWait\n",
    "from selenium.webdriver.common.keys import Keys\n",
    "from datetime import date\n",
    "import datetime\n",
    "import requests\n",
    "\n",
    "\n"
   ]
  },
  {
   "cell_type": "code",
   "execution_count": 138,
   "id": "bce02d2e",
   "metadata": {},
   "outputs": [
    {
     "name": "stderr",
     "output_type": "stream",
     "text": [
      "\n",
      "\n",
      "====== WebDriver manager ======\n",
      "Current google-chrome version is 96.0.4664\n",
      "Get LATEST chromedriver version for 96.0.4664 google-chrome\n",
      "Driver [/Users/luizfernandotoledo/.wdm/drivers/chromedriver/mac64/96.0.4664.45/chromedriver] found in cache\n",
      "/var/folders/dj/5c61qy0d0b9gcj0yrt1jd2300000gn/T/ipykernel_18055/1903745058.py:2: DeprecationWarning: executable_path has been deprecated, please pass in a Service object\n",
      "  driver = webdriver.Chrome(ChromeDriverManager().install())\n"
     ]
    }
   ],
   "source": [
    "#open Selenium Chrome webdriver\n",
    "driver = webdriver.Chrome(ChromeDriverManager().install())"
   ]
  },
  {
   "cell_type": "code",
   "execution_count": 139,
   "id": "01ece384",
   "metadata": {},
   "outputs": [],
   "source": [
    "#find a link that gives me the last 30 days FOIA requests with the keyword 'Bolsonaro'\n",
    "# if you want to change the keyword, just change the variable keywords\n",
    "# if you want to change the time range, change the number in parenthesis in the 'days' variable\n",
    "\n",
    "# creating a link\n",
    "keyword = 'bolsonaro'\n",
    "today = date.today()\n",
    "days = datetime.timedelta(90)\n",
    "thirty_days_ago = today - days\n",
    "thirty_days_ago = str(thirty_days_ago)\n",
    "year_regex = r\"(\\d\\d\\d\\d)-\"\n",
    "year_only = re.findall(year_regex, thirty_days_ago)[0]\n",
    "month_regex = r\".....(..)\"\n",
    "month_only = re.findall(month_regex, thirty_days_ago)[0]\n",
    "day_regex = r\"........(..)\"\n",
    "day_only = re.findall(day_regex, thirty_days_ago)[0]\n",
    "\n",
    "\n",
    "### gambiarra monstra pra pegar a URL pq ainda to aprendendo, rs\n",
    "useful_link1 = 'http://www.consultaesic.cgu.gov.br/busca/SitePages/resultadopesquisa.aspx?k=ALL('\n",
    "useful_link2 = keyword\n",
    "useful_link3 = ')%20DataPedido%3E%3D'\n",
    "useful_link4 = day_only\n",
    "useful_link5 = '%2F'\n",
    "useful_link6 = month_only\n",
    "useful_link7 = '%2F'\n",
    "useful_link8 = year_only\n",
    "\n",
    "useful_link = useful_link1 + useful_link2 + useful_link3 + useful_link4 + useful_link5 + useful_link6 + useful_link7 + useful_link8  \n"
   ]
  },
  {
   "cell_type": "code",
   "execution_count": 140,
   "id": "b9de99e6",
   "metadata": {},
   "outputs": [],
   "source": [
    "#driver opens the link needed in order to find all FOIA requests\n",
    "\n",
    "driver.get(useful_link)"
   ]
  },
  {
   "cell_type": "code",
   "execution_count": 141,
   "id": "9d238de0",
   "metadata": {},
   "outputs": [
    {
     "ename": "NoSuchWindowException",
     "evalue": "Message: no such window: target window already closed\nfrom unknown error: web view not found\n  (Session info: chrome=96.0.4664.55)\nStacktrace:\n0   chromedriver                        0x0000000102912269 __gxx_personality_v0 + 582729\n1   chromedriver                        0x000000010289dc33 __gxx_personality_v0 + 106003\n2   chromedriver                        0x000000010245ae28 chromedriver + 171560\n3   chromedriver                        0x000000010243c10e chromedriver + 45326\n4   chromedriver                        0x00000001024b11dc chromedriver + 524764\n5   chromedriver                        0x00000001024bfabf chromedriver + 584383\n6   chromedriver                        0x00000001024adc23 chromedriver + 511011\n7   chromedriver                        0x000000010248375e chromedriver + 337758\n8   chromedriver                        0x0000000102484a95 chromedriver + 342677\n9   chromedriver                        0x00000001028ce8ab __gxx_personality_v0 + 305803\n10  chromedriver                        0x00000001028e5863 __gxx_personality_v0 + 399939\n11  chromedriver                        0x00000001028eac7f __gxx_personality_v0 + 421471\n12  chromedriver                        0x00000001028e6bba __gxx_personality_v0 + 404890\n13  chromedriver                        0x00000001028c2e51 __gxx_personality_v0 + 258097\n14  chromedriver                        0x0000000102902158 __gxx_personality_v0 + 516920\n15  chromedriver                        0x00000001029022e1 __gxx_personality_v0 + 517313\n16  chromedriver                        0x00000001029196f8 __gxx_personality_v0 + 612568\n17  libsystem_pthread.dylib             0x00007fff204528fc _pthread_start + 224\n18  libsystem_pthread.dylib             0x00007fff2044e443 thread_start + 15\n",
     "output_type": "error",
     "traceback": [
      "\u001b[0;31m---------------------------------------------------------------------------\u001b[0m",
      "\u001b[0;31mNoSuchWindowException\u001b[0m                     Traceback (most recent call last)",
      "\u001b[0;32m/var/folders/dj/5c61qy0d0b9gcj0yrt1jd2300000gn/T/ipykernel_18055/4284057594.py\u001b[0m in \u001b[0;36m<module>\u001b[0;34m\u001b[0m\n\u001b[1;32m      5\u001b[0m \u001b[0;31m#try to open up to 100 pages in order to find those links\u001b[0m\u001b[0;34m\u001b[0m\u001b[0;34m\u001b[0m\u001b[0m\n\u001b[1;32m      6\u001b[0m \u001b[0;32mfor\u001b[0m \u001b[0mi\u001b[0m \u001b[0;32min\u001b[0m \u001b[0mrange\u001b[0m\u001b[0;34m(\u001b[0m\u001b[0;36m100\u001b[0m\u001b[0;34m)\u001b[0m\u001b[0;34m:\u001b[0m\u001b[0;34m\u001b[0m\u001b[0;34m\u001b[0m\u001b[0m\n\u001b[0;32m----> 7\u001b[0;31m     \u001b[0;32mfor\u001b[0m \u001b[0mpedido\u001b[0m \u001b[0;32min\u001b[0m \u001b[0mdriver\u001b[0m\u001b[0;34m.\u001b[0m\u001b[0mfind_elements\u001b[0m\u001b[0;34m(\u001b[0m\u001b[0mBy\u001b[0m\u001b[0;34m.\u001b[0m\u001b[0mCLASS_NAME\u001b[0m\u001b[0;34m,\u001b[0m \u001b[0;34m'ms-srch-ellipsis'\u001b[0m\u001b[0;34m)\u001b[0m\u001b[0;34m:\u001b[0m\u001b[0;34m\u001b[0m\u001b[0;34m\u001b[0m\u001b[0m\n\u001b[0m\u001b[1;32m      8\u001b[0m         \u001b[0mlinks\u001b[0m \u001b[0;34m=\u001b[0m \u001b[0mpedido\u001b[0m\u001b[0;34m.\u001b[0m\u001b[0mfind_elements\u001b[0m\u001b[0;34m(\u001b[0m\u001b[0mBy\u001b[0m\u001b[0;34m.\u001b[0m\u001b[0mTAG_NAME\u001b[0m\u001b[0;34m,\u001b[0m \u001b[0;34m'a'\u001b[0m\u001b[0;34m)\u001b[0m\u001b[0;34m\u001b[0m\u001b[0;34m\u001b[0m\u001b[0m\n\u001b[1;32m      9\u001b[0m         \u001b[0;32mfor\u001b[0m \u001b[0mlink\u001b[0m \u001b[0;32min\u001b[0m \u001b[0mlinks\u001b[0m\u001b[0;34m:\u001b[0m\u001b[0;34m\u001b[0m\u001b[0;34m\u001b[0m\u001b[0m\n",
      "\u001b[0;32m~/.pyenv/versions/3.9.7/lib/python3.9/site-packages/selenium/webdriver/remote/webdriver.py\u001b[0m in \u001b[0;36mfind_elements\u001b[0;34m(self, by, value)\u001b[0m\n\u001b[1;32m   1277\u001b[0m         \u001b[0;31m# Return empty list if driver returns null\u001b[0m\u001b[0;34m\u001b[0m\u001b[0;34m\u001b[0m\u001b[0m\n\u001b[1;32m   1278\u001b[0m         \u001b[0;31m# See https://github.com/SeleniumHQ/selenium/issues/4555\u001b[0m\u001b[0;34m\u001b[0m\u001b[0;34m\u001b[0m\u001b[0m\n\u001b[0;32m-> 1279\u001b[0;31m         return self.execute(Command.FIND_ELEMENTS, {\n\u001b[0m\u001b[1;32m   1280\u001b[0m             \u001b[0;34m'using'\u001b[0m\u001b[0;34m:\u001b[0m \u001b[0mby\u001b[0m\u001b[0;34m,\u001b[0m\u001b[0;34m\u001b[0m\u001b[0;34m\u001b[0m\u001b[0m\n\u001b[1;32m   1281\u001b[0m             'value': value})['value'] or []\n",
      "\u001b[0;32m~/.pyenv/versions/3.9.7/lib/python3.9/site-packages/selenium/webdriver/remote/webdriver.py\u001b[0m in \u001b[0;36mexecute\u001b[0;34m(self, driver_command, params)\u001b[0m\n\u001b[1;32m    422\u001b[0m         \u001b[0mresponse\u001b[0m \u001b[0;34m=\u001b[0m \u001b[0mself\u001b[0m\u001b[0;34m.\u001b[0m\u001b[0mcommand_executor\u001b[0m\u001b[0;34m.\u001b[0m\u001b[0mexecute\u001b[0m\u001b[0;34m(\u001b[0m\u001b[0mdriver_command\u001b[0m\u001b[0;34m,\u001b[0m \u001b[0mparams\u001b[0m\u001b[0;34m)\u001b[0m\u001b[0;34m\u001b[0m\u001b[0;34m\u001b[0m\u001b[0m\n\u001b[1;32m    423\u001b[0m         \u001b[0;32mif\u001b[0m \u001b[0mresponse\u001b[0m\u001b[0;34m:\u001b[0m\u001b[0;34m\u001b[0m\u001b[0;34m\u001b[0m\u001b[0m\n\u001b[0;32m--> 424\u001b[0;31m             \u001b[0mself\u001b[0m\u001b[0;34m.\u001b[0m\u001b[0merror_handler\u001b[0m\u001b[0;34m.\u001b[0m\u001b[0mcheck_response\u001b[0m\u001b[0;34m(\u001b[0m\u001b[0mresponse\u001b[0m\u001b[0;34m)\u001b[0m\u001b[0;34m\u001b[0m\u001b[0;34m\u001b[0m\u001b[0m\n\u001b[0m\u001b[1;32m    425\u001b[0m             response['value'] = self._unwrap_value(\n\u001b[1;32m    426\u001b[0m                 response.get('value', None))\n",
      "\u001b[0;32m~/.pyenv/versions/3.9.7/lib/python3.9/site-packages/selenium/webdriver/remote/errorhandler.py\u001b[0m in \u001b[0;36mcheck_response\u001b[0;34m(self, response)\u001b[0m\n\u001b[1;32m    245\u001b[0m                 \u001b[0malert_text\u001b[0m \u001b[0;34m=\u001b[0m \u001b[0mvalue\u001b[0m\u001b[0;34m[\u001b[0m\u001b[0;34m'alert'\u001b[0m\u001b[0;34m]\u001b[0m\u001b[0;34m.\u001b[0m\u001b[0mget\u001b[0m\u001b[0;34m(\u001b[0m\u001b[0;34m'text'\u001b[0m\u001b[0;34m)\u001b[0m\u001b[0;34m\u001b[0m\u001b[0;34m\u001b[0m\u001b[0m\n\u001b[1;32m    246\u001b[0m             \u001b[0;32mraise\u001b[0m \u001b[0mexception_class\u001b[0m\u001b[0;34m(\u001b[0m\u001b[0mmessage\u001b[0m\u001b[0;34m,\u001b[0m \u001b[0mscreen\u001b[0m\u001b[0;34m,\u001b[0m \u001b[0mstacktrace\u001b[0m\u001b[0;34m,\u001b[0m \u001b[0malert_text\u001b[0m\u001b[0;34m)\u001b[0m  \u001b[0;31m# type: ignore[call-arg]  # mypy is not smart enough here\u001b[0m\u001b[0;34m\u001b[0m\u001b[0;34m\u001b[0m\u001b[0m\n\u001b[0;32m--> 247\u001b[0;31m         \u001b[0;32mraise\u001b[0m \u001b[0mexception_class\u001b[0m\u001b[0;34m(\u001b[0m\u001b[0mmessage\u001b[0m\u001b[0;34m,\u001b[0m \u001b[0mscreen\u001b[0m\u001b[0;34m,\u001b[0m \u001b[0mstacktrace\u001b[0m\u001b[0;34m)\u001b[0m\u001b[0;34m\u001b[0m\u001b[0;34m\u001b[0m\u001b[0m\n\u001b[0m\u001b[1;32m    248\u001b[0m \u001b[0;34m\u001b[0m\u001b[0m\n\u001b[1;32m    249\u001b[0m     \u001b[0;32mdef\u001b[0m \u001b[0m_value_or_default\u001b[0m\u001b[0;34m(\u001b[0m\u001b[0mself\u001b[0m\u001b[0;34m,\u001b[0m \u001b[0mobj\u001b[0m\u001b[0;34m:\u001b[0m \u001b[0mMapping\u001b[0m\u001b[0;34m[\u001b[0m\u001b[0m_KT\u001b[0m\u001b[0;34m,\u001b[0m \u001b[0m_VT\u001b[0m\u001b[0;34m]\u001b[0m\u001b[0;34m,\u001b[0m \u001b[0mkey\u001b[0m\u001b[0;34m:\u001b[0m \u001b[0m_KT\u001b[0m\u001b[0;34m,\u001b[0m \u001b[0mdefault\u001b[0m\u001b[0;34m:\u001b[0m \u001b[0m_VT\u001b[0m\u001b[0;34m)\u001b[0m \u001b[0;34m->\u001b[0m \u001b[0m_VT\u001b[0m\u001b[0;34m:\u001b[0m\u001b[0;34m\u001b[0m\u001b[0;34m\u001b[0m\u001b[0m\n",
      "\u001b[0;31mNoSuchWindowException\u001b[0m: Message: no such window: target window already closed\nfrom unknown error: web view not found\n  (Session info: chrome=96.0.4664.55)\nStacktrace:\n0   chromedriver                        0x0000000102912269 __gxx_personality_v0 + 582729\n1   chromedriver                        0x000000010289dc33 __gxx_personality_v0 + 106003\n2   chromedriver                        0x000000010245ae28 chromedriver + 171560\n3   chromedriver                        0x000000010243c10e chromedriver + 45326\n4   chromedriver                        0x00000001024b11dc chromedriver + 524764\n5   chromedriver                        0x00000001024bfabf chromedriver + 584383\n6   chromedriver                        0x00000001024adc23 chromedriver + 511011\n7   chromedriver                        0x000000010248375e chromedriver + 337758\n8   chromedriver                        0x0000000102484a95 chromedriver + 342677\n9   chromedriver                        0x00000001028ce8ab __gxx_personality_v0 + 305803\n10  chromedriver                        0x00000001028e5863 __gxx_personality_v0 + 399939\n11  chromedriver                        0x00000001028eac7f __gxx_personality_v0 + 421471\n12  chromedriver                        0x00000001028e6bba __gxx_personality_v0 + 404890\n13  chromedriver                        0x00000001028c2e51 __gxx_personality_v0 + 258097\n14  chromedriver                        0x0000000102902158 __gxx_personality_v0 + 516920\n15  chromedriver                        0x00000001029022e1 __gxx_personality_v0 + 517313\n16  chromedriver                        0x00000001029196f8 __gxx_personality_v0 + 612568\n17  libsystem_pthread.dylib             0x00007fff204528fc _pthread_start + 224\n18  libsystem_pthread.dylib             0x00007fff2044e443 thread_start + 15\n"
     ]
    }
   ],
   "source": [
    "#step one: create a list with links from all the pages\n",
    "\n",
    "\n",
    "list_of_links = []\n",
    "#try to open up to 100 pages in order to find those links\n",
    "for i in range(100):\n",
    "    for pedido in driver.find_elements(By.CLASS_NAME, 'ms-srch-ellipsis'):\n",
    "        links = pedido.find_elements(By.TAG_NAME, 'a')\n",
    "        for link in links:\n",
    "            caso = link.get_attribute('href')\n",
    "            list_of_links.append(caso)\n",
    "    #click on the next page\n",
    "    try:\n",
    "        driver.find_element(By.XPATH, '//*[@id=\"PageLinkNext\"]').click()\n",
    "        time.sleep(2)\n",
    "    except:\n",
    "        break\n"
   ]
  },
  {
   "cell_type": "code",
   "execution_count": null,
   "id": "554dd2ee",
   "metadata": {},
   "outputs": [],
   "source": [
    "#check if we've got everything\n",
    "list_of_links"
   ]
  },
  {
   "cell_type": "code",
   "execution_count": null,
   "id": "be396487",
   "metadata": {},
   "outputs": [],
   "source": [
    "# create a list and fill it with request title, request link and request text\n",
    "\n",
    "lista_de_pedidos = []\n",
    "for link in list_of_links:\n",
    "    lista_do_pedido = []\n",
    "    driver.get(link)\n",
    "    resumao = driver.find_element(By.XPATH, '/html/body/form/div[4]/div[10]/div[1]/div[2]/div/div[2]/div[2]/div[1]/table/tbody/tr/td/div/div[3]/div[1]/div/div[1]/span/div[2]/div/div[2]/div/div/div/div[2]/div[1]/div/div/fieldset/div/div[1]/span/textarea')\n",
    "    lista_do_pedido.append(resumao.text)\n",
    "    link_do_pedido = driver.find_element(By.XPATH, '/html/body/form/div[4]/div[10]/div[1]/div[2]/div/div[2]/div[2]/div[1]/table/tbody/tr/td/div/div[3]/div[1]/div/div[1]/span/div[2]/div/div[2]/div/div/div/div[2]/div[2]/div/div/fieldset/div/div[3]/table/tbody/tr/td[2]/div/span/textarea')\n",
    "    lista_do_pedido.append(link_do_pedido.text)\n",
    "    texto_do_pedido = driver.find_element(By.XPATH, '/html/body/form/div[4]/div[10]/div[1]/div[2]/div/div[2]/div[2]/div[1]/table/tbody/tr/td/div/div[3]/div[1]/div/div[1]/span/div[2]/div/div[2]/div/div/div/div[2]/div[4]/div/div/fieldset/div/div/table/tbody/tr/td[2]/div[1]/span/div')\n",
    "    lista_do_pedido.append(texto_do_pedido.text)\n",
    "    lista_de_pedidos.append(lista_do_pedido)\n",
    "\n",
    "lista_de_pedidos\n"
   ]
  },
  {
   "cell_type": "code",
   "execution_count": null,
   "id": "4891b30c",
   "metadata": {},
   "outputs": [],
   "source": [
    "import pandas\n",
    "\n",
    "df = pd.DataFrame(lista_de_pedidos, columns = ['resumo', 'link', 'texto_do_pedido'])\n",
    "\n",
    "df.to_csv('lista_de_pedidos.csv')\n",
    "\n"
   ]
  },
  {
   "cell_type": "code",
   "execution_count": null,
   "id": "2586da4b",
   "metadata": {},
   "outputs": [],
   "source": []
  }
 ],
 "metadata": {
  "kernelspec": {
   "display_name": "Python 3 (ipykernel)",
   "language": "python",
   "name": "python3"
  },
  "language_info": {
   "codemirror_mode": {
    "name": "ipython",
    "version": 3
   },
   "file_extension": ".py",
   "mimetype": "text/x-python",
   "name": "python",
   "nbconvert_exporter": "python",
   "pygments_lexer": "ipython3",
   "version": "3.9.7"
  }
 },
 "nbformat": 4,
 "nbformat_minor": 5
}
