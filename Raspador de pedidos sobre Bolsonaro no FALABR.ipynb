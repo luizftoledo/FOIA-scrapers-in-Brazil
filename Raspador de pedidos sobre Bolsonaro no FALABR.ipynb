{
 "cells": [
  {
   "cell_type": "code",
   "execution_count": 58,
   "id": "f6a4f537",
   "metadata": {},
   "outputs": [],
   "source": [
    "# import everything that I will use\n",
    "import re\n",
    "import pandas as pd\n",
    "import time\n",
    "from selenium import webdriver\n",
    "from selenium.webdriver.common.keys import Keys\n",
    "from selenium.webdriver.common.by import By\n",
    "from selenium.webdriver.support import expected_conditions as EC\n",
    "from selenium.webdriver.support.ui import Select\n",
    "from webdriver_manager.chrome import ChromeDriverManager\n",
    "from selenium.webdriver.support.ui import WebDriverWait\n",
    "from datetime import date\n",
    "import datetime\n",
    "import requests\n",
    "\n",
    "\n"
   ]
  },
  {
   "cell_type": "code",
   "execution_count": 59,
   "id": "bce02d2e",
   "metadata": {},
   "outputs": [
    {
     "name": "stderr",
     "output_type": "stream",
     "text": [
      "\n",
      "\n",
      "====== WebDriver manager ======\n",
      "Current google-chrome version is 96.0.4664\n",
      "Get LATEST chromedriver version for 96.0.4664 google-chrome\n",
      "Driver [/Users/luizfernandotoledo/.wdm/drivers/chromedriver/mac64/96.0.4664.45/chromedriver] found in cache\n",
      "/var/folders/dj/5c61qy0d0b9gcj0yrt1jd2300000gn/T/ipykernel_18055/1903745058.py:2: DeprecationWarning: executable_path has been deprecated, please pass in a Service object\n",
      "  driver = webdriver.Chrome(ChromeDriverManager().install())\n"
     ]
    }
   ],
   "source": [
    "#open Selenium Chrome webdriver\n",
    "driver = webdriver.Chrome(ChromeDriverManager().install())"
   ]
  },
  {
   "cell_type": "code",
   "execution_count": 60,
   "id": "01ece384",
   "metadata": {},
   "outputs": [],
   "source": [
    "#find a link that gives me the last 30 days FOIA requests with the keyword 'Bolsonaro'\n",
    "# if you want to change the keyword, just change the variable search_words\n",
    "\n",
    "# creating a link\n",
    "keyword = 'bolsonaro'\n",
    "today = date.today()\n",
    "days = datetime.timedelta(90)\n",
    "thirty_days_ago = today - days\n",
    "thirty_days_ago = str(thirty_days_ago)\n",
    "year_regex = r\"(\\d\\d\\d\\d)-\"\n",
    "year_only = re.findall(year_regex, thirty_days_ago)[0]\n",
    "month_regex = r\".....(..)\"\n",
    "month_only = re.findall(month_regex, thirty_days_ago)[0]\n",
    "day_regex = r\"........(..)\"\n",
    "day_only = re.findall(day_regex, thirty_days_ago)[0]\n",
    "\n",
    "\n",
    "### gambiarra monstra pra pegar a URL pq ainda to aprendendo, rs\n",
    "useful_link1 = 'http://www.consultaesic.cgu.gov.br/busca/SitePages/resultadopesquisa.aspx?k=ALL('\n",
    "useful_link2 = keyword\n",
    "useful_link3 = ')%20DataPedido%3E%3D'\n",
    "useful_link4 = day_only\n",
    "useful_link5 = '%2F'\n",
    "useful_link6 = month_only\n",
    "useful_link7 = '%2F'\n",
    "useful_link8 = year_only\n",
    "\n",
    "useful_link = useful_link1 + useful_link2 + useful_link3 + useful_link4 + useful_link5 + useful_link6 + useful_link7 + useful_link8  \n"
   ]
  },
  {
   "cell_type": "code",
   "execution_count": 61,
   "id": "b9de99e6",
   "metadata": {},
   "outputs": [],
   "source": [
    "#driver opens the link needed in order to find all FOIA requests\n",
    "\n",
    "driver.get(useful_link)\n",
    " "
   ]
  },
  {
   "cell_type": "code",
   "execution_count": 62,
   "id": "9d238de0",
   "metadata": {},
   "outputs": [],
   "source": [
    "#step one: create a list with links from all the pages\n",
    "\n",
    "\n",
    "list_of_links = []\n",
    "#try to open up to 100 pages in order to find those links\n",
    "for i in range(100):\n",
    "    for pedido in driver.find_elements(By.CLASS_NAME, 'ms-srch-ellipsis'):\n",
    "        links = pedido.find_elements(By.TAG_NAME, 'a')\n",
    "        for link in links:\n",
    "            caso = link.get_attribute('href')\n",
    "            list_of_links.append(caso)\n",
    "    #click on the next page\n",
    "    try:\n",
    "        driver.find_element(By.XPATH, '//*[@id=\"PageLinkNext\"]').click()\n",
    "        time.sleep(2)\n",
    "    except:\n",
    "        break\n"
   ]
  },
  {
   "cell_type": "code",
   "execution_count": 63,
   "id": "554dd2ee",
   "metadata": {},
   "outputs": [
    {
     "data": {
      "text/plain": [
       "['http://www.consultaesic.cgu.gov.br/busca/dados/Lists/Pedido/DispForm.aspx?ID=1582527',\n",
       " 'http://www.consultaesic.cgu.gov.br/busca/dados/Lists/Pedido/DispForm.aspx?ID=1589393',\n",
       " 'http://www.consultaesic.cgu.gov.br/busca/dados/Lists/Pedido/DispForm.aspx?ID=1575934',\n",
       " 'http://www.consultaesic.cgu.gov.br/busca/dados/Lists/Pedido/DispForm.aspx?ID=1585520',\n",
       " 'http://www.consultaesic.cgu.gov.br/busca/dados/Lists/Pedido/DispForm.aspx?ID=1585459',\n",
       " 'http://www.consultaesic.cgu.gov.br/busca/dados/Lists/Pedido/DispForm.aspx?ID=1585528',\n",
       " 'http://www.consultaesic.cgu.gov.br/busca/dados/Lists/Pedido/DispForm.aspx?ID=1582314',\n",
       " 'http://www.consultaesic.cgu.gov.br/busca/dados/Lists/Pedido/DispForm.aspx?ID=1578303',\n",
       " 'http://www.consultaesic.cgu.gov.br/busca/dados/Lists/Pedido/DispForm.aspx?ID=1580216',\n",
       " 'http://www.consultaesic.cgu.gov.br/busca/dados/Lists/Pedido/DispForm.aspx?ID=1582020',\n",
       " 'http://www.consultaesic.cgu.gov.br/busca/dados/Lists/Pedido/DispForm.aspx?ID=1581468',\n",
       " 'http://www.consultaesic.cgu.gov.br/busca/dados/Lists/Pedido/DispForm.aspx?ID=1579747',\n",
       " 'http://www.consultaesic.cgu.gov.br/busca/dados/Lists/Pedido/DispForm.aspx?ID=1584561',\n",
       " 'http://www.consultaesic.cgu.gov.br/busca/dados/Lists/Pedido/DispForm.aspx?ID=1582943',\n",
       " 'http://www.consultaesic.cgu.gov.br/busca/dados/Lists/Pedido/DispForm.aspx?ID=1580647',\n",
       " 'http://www.consultaesic.cgu.gov.br/busca/dados/Lists/Pedido/DispForm.aspx?ID=1585575',\n",
       " 'http://www.consultaesic.cgu.gov.br/busca/dados/Lists/Pedido/DispForm.aspx?ID=1591937',\n",
       " 'http://www.consultaesic.cgu.gov.br/busca/dados/Lists/Pedido/DispForm.aspx?ID=1581543',\n",
       " 'http://www.consultaesic.cgu.gov.br/busca/dados/Lists/Pedido/DispForm.aspx?ID=1585648',\n",
       " 'http://www.consultaesic.cgu.gov.br/busca/dados/Lists/Pedido/DispForm.aspx?ID=1580428',\n",
       " 'http://www.consultaesic.cgu.gov.br/busca/dados/Lists/Pedido/DispForm.aspx?ID=1590659',\n",
       " 'http://www.consultaesic.cgu.gov.br/busca/dados/Lists/Pedido/DispForm.aspx?ID=1585496',\n",
       " 'http://www.consultaesic.cgu.gov.br/busca/dados/Lists/Pedido/DispForm.aspx?ID=1580732',\n",
       " 'http://www.consultaesic.cgu.gov.br/busca/dados/Lists/Pedido/DispForm.aspx?ID=1585972',\n",
       " 'http://www.consultaesic.cgu.gov.br/busca/dados/Lists/Pedido/DispForm.aspx?ID=1589409',\n",
       " 'http://www.consultaesic.cgu.gov.br/busca/dados/Lists/Pedido/DispForm.aspx?ID=1593231',\n",
       " 'http://www.consultaesic.cgu.gov.br/busca/dados/Lists/Pedido/DispForm.aspx?ID=1585993',\n",
       " 'http://www.consultaesic.cgu.gov.br/busca/dados/Lists/Pedido/DispForm.aspx?ID=1580628',\n",
       " 'http://www.consultaesic.cgu.gov.br/busca/dados/Lists/Pedido/DispForm.aspx?ID=1591936',\n",
       " 'http://www.consultaesic.cgu.gov.br/busca/dados/Lists/Pedido/DispForm.aspx?ID=1590902',\n",
       " 'http://www.consultaesic.cgu.gov.br/busca/dados/Lists/Pedido/DispForm.aspx?ID=1580800',\n",
       " 'http://www.consultaesic.cgu.gov.br/busca/dados/Lists/Pedido/DispForm.aspx?ID=1592596',\n",
       " 'http://www.consultaesic.cgu.gov.br/busca/dados/Lists/Pedido/DispForm.aspx?ID=1591384',\n",
       " 'http://www.consultaesic.cgu.gov.br/busca/dados/Lists/Pedido/DispForm.aspx?ID=1581881',\n",
       " 'http://www.consultaesic.cgu.gov.br/busca/dados/Lists/Pedido/DispForm.aspx?ID=1578778',\n",
       " 'http://www.consultaesic.cgu.gov.br/busca/dados/Lists/Pedido/DispForm.aspx?ID=1591869',\n",
       " 'http://www.consultaesic.cgu.gov.br/busca/dados/Lists/Pedido/DispForm.aspx?ID=1591834',\n",
       " 'http://www.consultaesic.cgu.gov.br/busca/dados/Lists/Pedido/DispForm.aspx?ID=1580622',\n",
       " 'http://www.consultaesic.cgu.gov.br/busca/dados/Lists/Pedido/DispForm.aspx?ID=1591974',\n",
       " 'http://www.consultaesic.cgu.gov.br/busca/dados/Lists/Pedido/DispForm.aspx?ID=1591192',\n",
       " 'http://www.consultaesic.cgu.gov.br/busca/dados/Lists/Pedido/DispForm.aspx?ID=1593240',\n",
       " 'http://www.consultaesic.cgu.gov.br/busca/dados/Lists/Pedido/DispForm.aspx?ID=1579113',\n",
       " 'http://www.consultaesic.cgu.gov.br/busca/dados/Lists/Pedido/DispForm.aspx?ID=1593247',\n",
       " 'http://www.consultaesic.cgu.gov.br/busca/dados/Lists/Pedido/DispForm.aspx?ID=1581670',\n",
       " 'http://www.consultaesic.cgu.gov.br/busca/dados/Lists/Pedido/DispForm.aspx?ID=1592942',\n",
       " 'http://www.consultaesic.cgu.gov.br/busca/dados/Lists/Pedido/DispForm.aspx?ID=1591388',\n",
       " 'http://www.consultaesic.cgu.gov.br/busca/dados/Lists/Pedido/DispForm.aspx?ID=1582023',\n",
       " 'http://www.consultaesic.cgu.gov.br/busca/dados/Lists/Pedido/DispForm.aspx?ID=1592742',\n",
       " 'http://www.consultaesic.cgu.gov.br/busca/dados/Lists/Pedido/DispForm.aspx?ID=1580274',\n",
       " 'http://www.consultaesic.cgu.gov.br/busca/dados/Lists/Pedido/DispForm.aspx?ID=1583161',\n",
       " 'http://www.consultaesic.cgu.gov.br/busca/dados/Lists/Pedido/DispForm.aspx?ID=1582465',\n",
       " 'http://www.consultaesic.cgu.gov.br/busca/dados/Lists/Pedido/DispForm.aspx?ID=1581880',\n",
       " 'http://www.consultaesic.cgu.gov.br/busca/dados/Lists/Pedido/DispForm.aspx?ID=1592493',\n",
       " 'http://www.consultaesic.cgu.gov.br/busca/dados/Lists/Pedido/DispForm.aspx?ID=1581245',\n",
       " 'http://www.consultaesic.cgu.gov.br/busca/dados/Lists/Pedido/DispForm.aspx?ID=1576476',\n",
       " 'http://www.consultaesic.cgu.gov.br/busca/dados/Lists/Pedido/DispForm.aspx?ID=1591951',\n",
       " 'http://www.consultaesic.cgu.gov.br/busca/dados/Lists/Pedido/DispForm.aspx?ID=1583735',\n",
       " 'http://www.consultaesic.cgu.gov.br/busca/dados/Lists/Pedido/DispForm.aspx?ID=1575871',\n",
       " 'http://www.consultaesic.cgu.gov.br/busca/dados/Lists/Pedido/DispForm.aspx?ID=1582487',\n",
       " 'http://www.consultaesic.cgu.gov.br/busca/dados/Lists/Pedido/DispForm.aspx?ID=1582757',\n",
       " 'http://www.consultaesic.cgu.gov.br/busca/dados/Lists/Pedido/DispForm.aspx?ID=1581989',\n",
       " 'http://www.consultaesic.cgu.gov.br/busca/dados/Lists/Pedido/DispForm.aspx?ID=1584760',\n",
       " 'http://www.consultaesic.cgu.gov.br/busca/dados/Lists/Pedido/DispForm.aspx?ID=1580178',\n",
       " 'http://www.consultaesic.cgu.gov.br/busca/dados/Lists/Pedido/DispForm.aspx?ID=1587084',\n",
       " 'http://www.consultaesic.cgu.gov.br/busca/dados/Lists/Pedido/DispForm.aspx?ID=1579964',\n",
       " 'http://www.consultaesic.cgu.gov.br/busca/dados/Lists/Pedido/DispForm.aspx?ID=1582706',\n",
       " 'http://www.consultaesic.cgu.gov.br/busca/dados/Lists/Pedido/DispForm.aspx?ID=1592392',\n",
       " 'http://www.consultaesic.cgu.gov.br/busca/dados/Lists/Pedido/DispForm.aspx?ID=1592345',\n",
       " 'http://www.consultaesic.cgu.gov.br/busca/dados/Lists/Pedido/DispForm.aspx?ID=1592456',\n",
       " 'http://www.consultaesic.cgu.gov.br/busca/dados/Lists/Pedido/DispForm.aspx?ID=1592489',\n",
       " 'http://www.consultaesic.cgu.gov.br/busca/dados/Lists/Pedido/DispForm.aspx?ID=1584452',\n",
       " 'http://www.consultaesic.cgu.gov.br/busca/dados/Lists/Pedido/DispForm.aspx?ID=1584766',\n",
       " 'http://www.consultaesic.cgu.gov.br/busca/dados/Lists/Pedido/DispForm.aspx?ID=1584767',\n",
       " 'http://www.consultaesic.cgu.gov.br/busca/dados/Lists/Pedido/DispForm.aspx?ID=1588629',\n",
       " 'http://www.consultaesic.cgu.gov.br/busca/dados/Lists/Pedido/DispForm.aspx?ID=1582475',\n",
       " 'http://www.consultaesic.cgu.gov.br/busca/dados/Lists/Pedido/DispForm.aspx?ID=1581886',\n",
       " 'http://www.consultaesic.cgu.gov.br/busca/dados/Lists/Pedido/DispForm.aspx?ID=1593199']"
      ]
     },
     "execution_count": 63,
     "metadata": {},
     "output_type": "execute_result"
    }
   ],
   "source": [
    "#check if we've got everything\n",
    "list_of_links\n",
    "# count_content = len(list_of_contents)\n",
    "\n",
    "# print(f'There are {count_link} links and {count_content} contents.')"
   ]
  },
  {
   "cell_type": "code",
   "execution_count": null,
   "id": "be396487",
   "metadata": {},
   "outputs": [],
   "source": [
    "# create a list and fill it with request title, request link and request text\n",
    "\n",
    "lista_de_pedidos = []\n",
    "for link in list_of_links:\n",
    "    lista_do_pedido = []\n",
    "    driver.get(link)\n",
    "    resumao = driver.find_element(By.XPATH, '/html/body/form/div[4]/div[10]/div[1]/div[2]/div/div[2]/div[2]/div[1]/table/tbody/tr/td/div/div[3]/div[1]/div/div[1]/span/div[2]/div/div[2]/div/div/div/div[2]/div[1]/div/div/fieldset/div/div[1]/span/textarea')\n",
    "    lista_do_pedido.append(resumao.text)\n",
    "    link_do_pedido = driver.find_element(By.XPATH, '/html/body/form/div[4]/div[10]/div[1]/div[2]/div/div[2]/div[2]/div[1]/table/tbody/tr/td/div/div[3]/div[1]/div/div[1]/span/div[2]/div/div[2]/div/div/div/div[2]/div[2]/div/div/fieldset/div/div[3]/table/tbody/tr/td[2]/div/span/textarea')\n",
    "    lista_do_pedido.append(link_do_pedido.text)\n",
    "    texto_do_pedido = driver.find_element(By.XPATH, '/html/body/form/div[4]/div[10]/div[1]/div[2]/div/div[2]/div[2]/div[1]/table/tbody/tr/td/div/div[3]/div[1]/div/div[1]/span/div[2]/div/div[2]/div/div/div/div[2]/div[4]/div/div/fieldset/div/div/table/tbody/tr/td[2]/div[1]/span/div')\n",
    "    lista_do_pedido.append(texto_do_pedido.text)\n",
    "    lista_de_pedidos.append(lista_do_pedido)\n",
    "\n",
    "lista_de_pedidos\n"
   ]
  },
  {
   "cell_type": "code",
   "execution_count": null,
   "id": "4891b30c",
   "metadata": {},
   "outputs": [],
   "source": [
    "import pandas\n",
    "\n",
    "df = pd.DataFrame(lista_de_pedidos, columns = ['resumo', 'link', 'texto_do_pedido'])\n",
    "\n",
    "df.to_csv('lista_de_pedidos.csv')\n",
    "\n"
   ]
  },
  {
   "cell_type": "code",
   "execution_count": null,
   "id": "80907b55",
   "metadata": {},
   "outputs": [],
   "source": []
  }
 ],
 "metadata": {
  "kernelspec": {
   "display_name": "Python 3 (ipykernel)",
   "language": "python",
   "name": "python3"
  },
  "language_info": {
   "codemirror_mode": {
    "name": "ipython",
    "version": 3
   },
   "file_extension": ".py",
   "mimetype": "text/x-python",
   "name": "python",
   "nbconvert_exporter": "python",
   "pygments_lexer": "ipython3",
   "version": "3.9.7"
  }
 },
 "nbformat": 4,
 "nbformat_minor": 5
}
