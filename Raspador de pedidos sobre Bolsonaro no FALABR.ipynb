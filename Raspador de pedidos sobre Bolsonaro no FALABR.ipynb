{
 "cells": [
  {
   "cell_type": "code",
   "execution_count": 49,
   "id": "f6a4f537",
   "metadata": {},
   "outputs": [],
   "source": [
    "# import everything that I will use\n",
    "import re\n",
    "import pandas as pd\n",
    "import time\n",
    "from selenium import webdriver\n",
    "from selenium.webdriver.common.keys import Keys\n",
    "from selenium.webdriver.common.by import By\n",
    "from selenium.webdriver.support import expected_conditions as EC\n",
    "from selenium.webdriver.support.ui import Select\n",
    "from webdriver_manager.chrome import ChromeDriverManager\n",
    "from selenium.webdriver.support.ui import WebDriverWait\n",
    "from datetime import date\n",
    "import datetime\n",
    "import requests\n",
    "\n",
    "\n"
   ]
  },
  {
   "cell_type": "code",
   "execution_count": 50,
   "id": "bce02d2e",
   "metadata": {},
   "outputs": [
    {
     "name": "stderr",
     "output_type": "stream",
     "text": [
      "\n",
      "\n",
      "====== WebDriver manager ======\n",
      "Current google-chrome version is 96.0.4664\n",
      "Get LATEST chromedriver version for 96.0.4664 google-chrome\n",
      "Driver [/Users/luizfernandotoledo/.wdm/drivers/chromedriver/mac64/96.0.4664.45/chromedriver] found in cache\n",
      "/var/folders/dj/5c61qy0d0b9gcj0yrt1jd2300000gn/T/ipykernel_18055/1903745058.py:2: DeprecationWarning: executable_path has been deprecated, please pass in a Service object\n",
      "  driver = webdriver.Chrome(ChromeDriverManager().install())\n"
     ]
    }
   ],
   "source": [
    "#open Selenium Chrome webdriver\n",
    "driver = webdriver.Chrome(ChromeDriverManager().install())"
   ]
  },
  {
   "cell_type": "code",
   "execution_count": 51,
   "id": "01ece384",
   "metadata": {},
   "outputs": [],
   "source": [
    "#find a link that gives me the last 30 days FOIA requests with the keyword 'Bolsonaro'\n",
    "# if you want to change the keyword, just change the variable search_words\n",
    "\n",
    "# creating a link\n",
    "keyword = 'bolsonaro'\n",
    "today = date.today()\n",
    "days = datetime.timedelta(30)\n",
    "thirty_days_ago = today - days\n",
    "thirty_days_ago = str(thirty_days_ago)\n",
    "year_regex = r\"(\\d\\d\\d\\d)-\"\n",
    "year_only = re.findall(year_regex, thirty_days_ago)[0]\n",
    "month_regex = r\".....(..)\"\n",
    "month_only = re.findall(month_regex, thirty_days_ago)[0]\n",
    "day_regex = r\"........(..)\"\n",
    "day_only = re.findall(day_regex, thirty_days_ago)[0]\n",
    "\n",
    "\n",
    "### gambiarra monstra pra pegar a URL pq ainda to aprendendo, rs\n",
    "useful_link1 = 'http://www.consultaesic.cgu.gov.br/busca/SitePages/resultadopesquisa.aspx?k=ALL('\n",
    "useful_link2 = keyword\n",
    "useful_link3 = ')%20DataPedido%3E%3D'\n",
    "useful_link4 = day_only\n",
    "useful_link5 = '%2F'\n",
    "useful_link6 = month_only\n",
    "useful_link7 = '%2F'\n",
    "useful_link8 = year_only\n",
    "\n",
    "useful_link = useful_link1 + useful_link2 + useful_link3 + useful_link4 + useful_link5 + useful_link6 + useful_link7 + useful_link8  \n"
   ]
  },
  {
   "cell_type": "code",
   "execution_count": 52,
   "id": "b9de99e6",
   "metadata": {},
   "outputs": [],
   "source": [
    "#driver opens the link needed in order to find all FOIA requests\n",
    "\n",
    "driver.get(useful_link)\n",
    " "
   ]
  },
  {
   "cell_type": "code",
   "execution_count": 53,
   "id": "9d238de0",
   "metadata": {},
   "outputs": [],
   "source": [
    "#step one: create a list with links from all the pages\n",
    "\n",
    "\n",
    "list_of_links = []\n",
    "#try to open up to 100 pages in order to find those links\n",
    "for i in range(100):\n",
    "    for pedido in driver.find_elements(By.CLASS_NAME, 'ms-srch-ellipsis'):\n",
    "        links = pedido.find_elements(By.TAG_NAME, 'a')\n",
    "        for link in links:\n",
    "            caso = link.get_attribute('href')\n",
    "            list_of_links.append(caso)\n",
    "    #click on the next page\n",
    "    try:\n",
    "        driver.find_element(By.XPATH, '//*[@id=\"PageLinkNext\"]').click()\n",
    "        time.sleep(2)\n",
    "    except:\n",
    "        break\n"
   ]
  },
  {
   "cell_type": "code",
   "execution_count": 54,
   "id": "554dd2ee",
   "metadata": {},
   "outputs": [
    {
     "data": {
      "text/plain": [
       "['http://www.consultaesic.cgu.gov.br/busca/dados/Lists/Pedido/DispForm.aspx?ID=1590659',\n",
       " 'http://www.consultaesic.cgu.gov.br/busca/dados/Lists/Pedido/DispForm.aspx?ID=1590902',\n",
       " 'http://www.consultaesic.cgu.gov.br/busca/dados/Lists/Pedido/DispForm.aspx?ID=1591384',\n",
       " 'http://www.consultaesic.cgu.gov.br/busca/dados/Lists/Pedido/DispForm.aspx?ID=1591869',\n",
       " 'http://www.consultaesic.cgu.gov.br/busca/dados/Lists/Pedido/DispForm.aspx?ID=1591834',\n",
       " 'http://www.consultaesic.cgu.gov.br/busca/dados/Lists/Pedido/DispForm.aspx?ID=1591192',\n",
       " 'http://www.consultaesic.cgu.gov.br/busca/dados/Lists/Pedido/DispForm.aspx?ID=1592942',\n",
       " 'http://www.consultaesic.cgu.gov.br/busca/dados/Lists/Pedido/DispForm.aspx?ID=1591388',\n",
       " 'http://www.consultaesic.cgu.gov.br/busca/dados/Lists/Pedido/DispForm.aspx?ID=1592742',\n",
       " 'http://www.consultaesic.cgu.gov.br/busca/dados/Lists/Pedido/DispForm.aspx?ID=1592493',\n",
       " 'http://www.consultaesic.cgu.gov.br/busca/dados/Lists/Pedido/DispForm.aspx?ID=1592392',\n",
       " 'http://www.consultaesic.cgu.gov.br/busca/dados/Lists/Pedido/DispForm.aspx?ID=1592345',\n",
       " 'http://www.consultaesic.cgu.gov.br/busca/dados/Lists/Pedido/DispForm.aspx?ID=1592456',\n",
       " 'http://www.consultaesic.cgu.gov.br/busca/dados/Lists/Pedido/DispForm.aspx?ID=1592489',\n",
       " 'http://www.consultaesic.cgu.gov.br/busca/dados/Lists/Pedido/DispForm.aspx?ID=1593199']"
      ]
     },
     "execution_count": 54,
     "metadata": {},
     "output_type": "execute_result"
    }
   ],
   "source": [
    "#check if we've got everything\n",
    "list_of_links\n",
    "# count_content = len(list_of_contents)\n",
    "\n",
    "# print(f'There are {count_link} links and {count_content} contents.')"
   ]
  },
  {
   "cell_type": "code",
   "execution_count": 55,
   "id": "be396487",
   "metadata": {},
   "outputs": [
    {
     "data": {
      "text/plain": [
       "[['Ordem Nacional de Mérito Científico - Pedido 01217008575202131',\n",
       "  'http://www.consultaesic.cgu.gov.br/busca/_layouts/15/DetalhePedido/DetalhePedido.aspx?nup=01217008575202131',\n",
       "  'Bom dia! Gostaria de ter acesso ao processo/procedimento administrativo (ou equivalente) que deu origem ao \"DECRETO DE 5 DE NOVEMBRO DE 2021\", publicado na Edição 208-A, Seção 1 - Extra A, página 1, do Diário Oficial de União (íntegra abaixo). Acesso à exposição de motivos (ou equivalente), acesso à motivação que embasou o decreto abaixo. Acesso ao trâmite do procedimento (ou equivalente) do Decreto: de quem partiu a iniciativa para o decreto, por quais órgãos o pedido (ou equivalente) tramitou, acesso a eventuais pareceres (ou equivalentes) que embasaram o ato administrativo. Em resumo, o que motivou o decreto que tornou sem efeito o mérito científico. Segue o decreto: DECRETO DE 5 DE NOVEMBRO DE 2021 O PRESIDENTE DA REPÚBLICA, no uso da atribuição que lhe confere o art. 84,caput, inciso XXI, da Constituição, e na qualidade de Grão-Mestre da Ordem Nacional do Mérito Científico, resolve: TORNAR SEM EFEITO o Decreto de 3 de novembro de 2021, publicado no Diário Oficial da União de 4 de novembro de 2021, Seção 1, página 239, na parte referente à admissão, na classe de Comendador da Ordem Nacional do Mérito Científico, de ADELE SCHWARTZ BENZAKEN, Diretora do Instituto Leônidas Maria Deane da Fundação Oswaldo Cruz, e de MARCUS VINÍCIUS GUIMARÃES DE LACERDA, Médico da Fundação de Medicina Tropical Doutor Heitor Vieira Dourado. Brasília, 5 de novembro de 2021; 200º da Independência e 133º da República. https://in.gov.br/web/dou/-/decreto-de-5-de-novembro-de-2021-357228658 Muito obrigado!'],\n",
       " ['Resultado de eleições para Reitor - Pedido 23546075363202170',\n",
       "  'http://www.consultaesic.cgu.gov.br/busca/_layouts/15/DetalhePedido/DetalhePedido.aspx?nup=23546075363202170',\n",
       "  'Solicito as informações abaixo descritas para efeito de levantamento de dados. 1- Houve processo eleitoral entre janeiro de 2018 e novembro de 2021? 2- Qual foi o percentual de votos recebido por cada candidato em cada segmento? 3- Após o final do mandato imediatamente anterior à eleição tratada na questão 01,quanto tempo decorreu até a nomeação e quem foi nomeado?'],\n",
       " [' - Pedido 00105003372202152',\n",
       "  'http://www.consultaesic.cgu.gov.br/busca/_layouts/15/DetalhePedido/DetalhePedido.aspx?nup=00105003372202152',\n",
       "  'Prezados, Bom dia. Solicitamos as seguintes informações: Lista de voos da FAB realizados pela ministra da Mulher, da Família e dos Direitos Humanos, Damares Alves, neste ano com o seguinte detalhamento: datas dos voos, origens e destinos e os nomes das pessoas (com especificação de cargos ou profissões) que a acompanharam. Att, Walmor Parente Coluna Esplanada.'],\n",
       " ['Eleição de reitores  dos Institutos Federais de educação de janeiro de 2018 a novembro de 2021 - Pedido 23546075414202163',\n",
       "  'http://www.consultaesic.cgu.gov.br/busca/_layouts/15/DetalhePedido/DetalhePedido.aspx?nup=23546075414202163',\n",
       "  'Solicito as informações abaixo descritas para efeito de levantamento de dados para pesquisa científica do Mestrado do ProfEPT do IFNMG. 1- Houve processo eleitoral entre janeiro de 2018 e novembro de 2021? 2- Qual foi o percentual de votos recebido por cada candidato em cada segmento? 3- Após o final do mandato imediatamente anterior à eleição tratada na questão 01,quanto tempo decorreu até a nomeação e quem foi nomeado?'],\n",
       " ['Voos da FAB - Pedido 03005233291202100',\n",
       "  'http://www.consultaesic.cgu.gov.br/busca/_layouts/15/DetalhePedido/DetalhePedido.aspx?nup=03005233291202100',\n",
       "  'Boa noite. Solicito a descrição de alguns itens sobre voos oficiais com aviões da FAB nesse ano. Peço que a data atualizada de resposta seja com dados até a data de resposta enviada aqui via LAI. Peço que seja descrito origem e destino, data e eventual motivação (se existir registro). Peço que seja especificado ao lado quem foi o solicitante do voo. Peço também a relação de passageiros nos voos. E, por fim, o custo da viagem. Peço, mais especificamente, detalhes sobre o avião FAB2582! Após trazer o ministro Paulo Guedes no dia 11/11, ele não tem registro de saída do Brasil. Apenas consta chegando à Nova York. Peço os registros do voo de ida do Brasil para Nova York, o dia, horário e quem foi levado no avião. Peço também a justificativa para o voo ter parado em um aeroporto doméstico, no aeroporto Mac Arthur, de Long Island e por quanto tempo ele ficou ali.'],\n",
       " ['Lista de visitantes - Pedido 59016002059202149',\n",
       "  'http://www.consultaesic.cgu.gov.br/busca/_layouts/15/DetalhePedido/DetalhePedido.aspx?nup=59016002059202149',\n",
       "  'À luz da Lei nº 12.527/2011 e dos princípios de transparência da administração pública, solicito acesso à lista de visitantes do ministro Rogério Marinho, registrada em meio físico ou eletrônico, na portaria de acesso ao gabinete do referido ministro ou por meio de controle do próprio gabinete, entre os dias 1º de fevereiro de 2021 e 30 de abril de 2021. Reforço que essas informações são condizentes com a lei de acesso a informação bem como com o seu caráter de interesse público -- e tal demanda foi prontamente atendia por outro órgãos, com respaldo de pareceres da CGU. Reforço ainda que, em resposta ao pedido de informação 59016.001830/2021-61, a assessoria técnica do gabinete do ministro informou que \"não houve identificação de relação de acesso para o período destacado\". No entanto, tal hipótese é improvável, uma vez que a agenda pública do senhor ministro Rogério Marinho exibe uma série de compromissos no intervalo solicitado, e é igualmente improvável que não haja sequer um registro do ingresso dessas pessoas nas dependências do ministério. Nesses termos, solicito o envio de tais informações.'],\n",
       " ['acesso - Pedido 25072032776202117',\n",
       "  'http://www.consultaesic.cgu.gov.br/busca/_layouts/15/DetalhePedido/DetalhePedido.aspx?nup=25072032776202117',\n",
       "  'Peço acesso à íntegra do Processo SEI 25000.124392/2021-65 e do PRocesso SEI 25000.103348/2021-11'],\n",
       " ['Solicitação de telegramas e atas - Pedido 00105003356202160',\n",
       "  'http://www.consultaesic.cgu.gov.br/busca/_layouts/15/DetalhePedido/DetalhePedido.aspx?nup=00105003356202160',\n",
       "  'Prezados(as), solicito: - Acesso aos telegramas, despachos telegráficos e circulares telegráficas do MMFDH, no período de janeiro de 2019 até novembro de 2021, nos descritores \"investimentos\" e \"direitos humanos\", contendo a palavra-chave \"Casa da Mulher Brasileira\". - Acesso a atas de todas as reuniões da ministra Damares Alves, de janeiro de 2019 até a presente data, contendo a palavra-chave \"Casa da Mulher Brasileira\". Obrigado!'],\n",
       " ['Regulamentação da Lei 14.166, de 10 de junho de 2021 - Pedido 59011000053202187',\n",
       "  'http://www.consultaesic.cgu.gov.br/busca/_layouts/15/DetalhePedido/DetalhePedido.aspx?nup=59011000053202187',\n",
       "  'Prezados, gostaria de saber se há algum normativo do Ministério do Desenvolvimento Regional e/ou do BASA regulamentando a renegociação extraordinária de débitos no âmbito do Fundo Constitucional de Financiamento do Norte prevista na Lei nº 14.166, de 10 de junho de 2021. Caso haja, qual(is) é/são?'],\n",
       " ['Solicito informações sobre a adesão dos produtores rurais ao Floresta+ Agro. - Pedido 00137019186202168',\n",
       "  'http://www.consultaesic.cgu.gov.br/busca/_layouts/15/DetalhePedido/DetalhePedido.aspx?nup=00137019186202168',\n",
       "  'Bom dia, eu gostaria, em nome de todo o Departamento de Agricultura do nosso Município, de informações referentes a pontuação, premiação e outras iniciativas monetárias e não monetárias que serão oferecidas aos agricultores que aderirem à prática de serviços ambientais, bem como será avaliada a comprovação dos resultados de conservação e os prazos para monitoramento das áreas deverão ser estabelecidos por profissional ou empresa, para podermos oferecer este incentivo aos nossos produtores.'],\n",
       " ['Prestação de Contas Anual -ESAF - Pedido 03005223242202151',\n",
       "  'http://www.consultaesic.cgu.gov.br/busca/_layouts/15/DetalhePedido/DetalhePedido.aspx?nup=03005223242202151',\n",
       "  'Prezado Ministério da Economia Gostaria dos relatórios da prestação de contas Anual da Escola da Administração Fazendária dos últimos 3 anos 2018/2019/2020, e se tiver de 2021 , para estudo do concurso da CGU 2020/2021. No site do gov.br encontra-se esses dados desatualizados . Atenciosamente Gilmar Almeida de Brito Junior'],\n",
       " ['Acesso aos dados - Pedido 03005227873202149',\n",
       "  'http://www.consultaesic.cgu.gov.br/busca/_layouts/15/DetalhePedido/DetalhePedido.aspx?nup=03005227873202149',\n",
       "  'Prezados, Gostaria de ter acesso aos estudos e dados brutos que fundamentam a afirmação de que houve uma \"redução de R$ 400 Bilhões no custo de fazer negócios\" (disponível em https://twitter.com/EconomiaSepec/status/1458172036044529675?ref_src=twsrc%5Etfw%7Ctwcamp%5Etweetembed%7Ctwterm%5E1458172036044529675%7Ctwgr%5E%7Ctwcon%5Es1_ref_url=https%3A%2F%2Fwww.gov.br%2Fprodutividade-e-comercio-exterior%2Fpt-br%2Fprodutividade-e-competitividade). Em especial, gostaria de ter acesso: (i) às definições utilizadas para definir o \"custo de fazer negócios\"; (ii) aos parâmetros utilizados para definir o \"custo de fazer negócios\" antes e depois das medidas adotadas para sua redução; (iii) aos estudos utilizados para circunscrever o \"custo de fazer negócio\" e as alternativas para lidar com eles, que considere a motivação para a seleção de cada opção administrativa, segundo critério de custo-benefício ou outro aplicável, considerando também seus eventuais impactos negativos; (iv) à lista das medidas efetivamente adotadas para a redução do \"custo de fazer negócio\", com data-base de sua implementação; (v) à memória de cálculo com o impacto financeiro individualizado de cada medida adotada para a redução do \"custo de fazer negócio\"; e (vi) a identificação de todas as fontes de dados, de forma individualizada e verificável, relativa a cada medida adotada para a redução do \"custo de fazer negócio\". Agradeço muito a atenção desde já.'],\n",
       " ['Atas Auxílio Brasil - Pedido 03005221599202102',\n",
       "  'http://www.consultaesic.cgu.gov.br/busca/_layouts/15/DetalhePedido/DetalhePedido.aspx?nup=03005221599202102',\n",
       "  'Solicito ao ministério, por favor, a cópia de todas as atas das reuniões referentes às discussões para a criação do programa Auxílio Brasil. Obrigado.'],\n",
       " ['acesso a documentos - Pedido 72020002285202129',\n",
       "  'http://www.consultaesic.cgu.gov.br/busca/_layouts/15/DetalhePedido/DetalhePedido.aspx?nup=72020002285202129',\n",
       "  'Solicito acesso à íntegra de documentos produzidos para embasar a edição da PORTARIA SECULT/MTUR Nº 44, DE 5 DE NOVEMBRO DE 2021. O pedido abrange a íntegra de processo físico e/ou eletrônico, bem como manifestações jurídicas do Ministério e/ou Secretaria de Cultura e demais documentos produzidos pela Secretaria da Cultura ou recebida e armazenada por ela ou pelo Ministério sobre a edição da portaria. O pedido abrange ainda consultas ao Ministério da Saúde sobre o tema. Caso não tenha sido feita consulta à Pasta da Saúde informar o motivo.'],\n",
       " ['documentos - Pedido 53125001627202171',\n",
       "  'http://www.consultaesic.cgu.gov.br/busca/_layouts/15/DetalhePedido/DetalhePedido.aspx?nup=53125001627202171',\n",
       "  'Com fundamento na Lei 12.527/2011 (Lei de Acesso a Informações Públicas) venho requerer o acesso (e eventualmente cópia), em até 20 dias corridos (artigo 11, parágrafo 1º da Lei 12.527/11), aos seguintes dados: Solicito acesso a pareceres, memorandos, notas técnicas, íntegra do processo administrativo e demais documentos relacionados à elaboração da notificação extrajudicial citada nesta reportagem (https://www.metropoles.com/brasil/justica/agu-pede-direito-resposta-por-capa-que-liga-bolsonaro-a-hitler-e-envia-sua-propria-edicao). Solicito detalhes da autoria da sugestão de nova ilustração como capa da revista IstoÉ (\"Governo Bolsonaro defendeu a vida, o emprego, a liberdade e a dignidade\"). Ressalto que este pedido foi feito por esta Lei de Acesso à AGU (01015.003964/2021-46 ), que enviou a resposta em anexo: 4. Pontuo, por derradeiro, que informações sobre a arte utilizada devem ser vindicadas à Secretaria Especial\". Peço, então, à Secom, a informações sobre a referida arte. Solicito que as informações sejam fornecidas em formato digital, quando disponíveis, conforme estabelece o artigo 11, parágrafo 5º da lei 12.527/2011. Na eventualidade de as informações solicitadas não serem fornecidas, requeiro que seja apontada a razão da negativa bem como, se for o caso, eventual grau de classificação de sigilo (ultrassecreto, secreto ou reservado), tudo nos termos do artigo 24, parágrafo 1º da Lei 12.527/2011. Desde logo agradeço pela atenção e peço deferimento.']]"
      ]
     },
     "execution_count": 55,
     "metadata": {},
     "output_type": "execute_result"
    }
   ],
   "source": [
    "# create a list and fill it with request title, request link and request text\n",
    "\n",
    "lista_de_pedidos = []\n",
    "for link in list_of_links:\n",
    "    lista_do_pedido = []\n",
    "    driver.get(link)\n",
    "    resumao = driver.find_element(By.XPATH, '/html/body/form/div[4]/div[10]/div[1]/div[2]/div/div[2]/div[2]/div[1]/table/tbody/tr/td/div/div[3]/div[1]/div/div[1]/span/div[2]/div/div[2]/div/div/div/div[2]/div[1]/div/div/fieldset/div/div[1]/span/textarea')\n",
    "    lista_do_pedido.append(resumao.text)\n",
    "    link_do_pedido = driver.find_element(By.XPATH, '/html/body/form/div[4]/div[10]/div[1]/div[2]/div/div[2]/div[2]/div[1]/table/tbody/tr/td/div/div[3]/div[1]/div/div[1]/span/div[2]/div/div[2]/div/div/div/div[2]/div[2]/div/div/fieldset/div/div[3]/table/tbody/tr/td[2]/div/span/textarea')\n",
    "    lista_do_pedido.append(link_do_pedido.text)\n",
    "    texto_do_pedido = driver.find_element(By.XPATH, '/html/body/form/div[4]/div[10]/div[1]/div[2]/div/div[2]/div[2]/div[1]/table/tbody/tr/td/div/div[3]/div[1]/div/div[1]/span/div[2]/div/div[2]/div/div/div/div[2]/div[4]/div/div/fieldset/div/div/table/tbody/tr/td[2]/div[1]/span/div')\n",
    "    lista_do_pedido.append(texto_do_pedido.text)\n",
    "    lista_de_pedidos.append(lista_do_pedido)\n",
    "\n",
    "lista_de_pedidos\n"
   ]
  },
  {
   "cell_type": "code",
   "execution_count": 56,
   "id": "4891b30c",
   "metadata": {},
   "outputs": [],
   "source": [
    "import pandas\n",
    "\n",
    "df = pd.DataFrame(lista_de_pedidos, columns = ['resumo', 'link', 'texto_do_pedido'])\n",
    "\n",
    "df.to_csv('lista_de_pedidos.csv')\n",
    "\n"
   ]
  },
  {
   "cell_type": "code",
   "execution_count": null,
   "id": "4dd89e2d",
   "metadata": {},
   "outputs": [],
   "source": []
  }
 ],
 "metadata": {
  "kernelspec": {
   "display_name": "Python 3 (ipykernel)",
   "language": "python",
   "name": "python3"
  },
  "language_info": {
   "codemirror_mode": {
    "name": "ipython",
    "version": 3
   },
   "file_extension": ".py",
   "mimetype": "text/x-python",
   "name": "python",
   "nbconvert_exporter": "python",
   "pygments_lexer": "ipython3",
   "version": "3.9.7"
  }
 },
 "nbformat": 4,
 "nbformat_minor": 5
}
