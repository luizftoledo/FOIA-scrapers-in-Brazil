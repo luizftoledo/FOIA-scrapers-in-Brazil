{
 "cells": [
  {
   "cell_type": "code",
   "execution_count": 205,
   "id": "9dd16beb",
   "metadata": {},
   "outputs": [],
   "source": [
    "# import everything that I will use\n",
    "import re\n",
    "import pandas as pd\n",
    "import time\n",
    "from selenium import webdriver\n",
    "from selenium.webdriver.common.keys import Keys\n",
    "from selenium.webdriver.common.by import By\n",
    "from selenium.webdriver.support import expected_conditions as EC\n",
    "from selenium.webdriver.support.ui import Select\n",
    "from webdriver_manager.chrome import ChromeDriverManager\n",
    "from selenium.webdriver.support.ui import WebDriverWait\n",
    "from bs4 import BeautifulSoup\n",
    "from tika import parser"
   ]
  },
  {
   "cell_type": "code",
   "execution_count": 206,
   "id": "9615d3fb",
   "metadata": {},
   "outputs": [
    {
     "name": "stderr",
     "output_type": "stream",
     "text": [
      "\n",
      "\n",
      "====== WebDriver manager ======\n",
      "Current google-chrome version is 96.0.4664\n",
      "Get LATEST chromedriver version for 96.0.4664 google-chrome\n",
      "Driver [/Users/luizfernandotoledo/.wdm/drivers/chromedriver/mac64/96.0.4664.45/chromedriver] found in cache\n",
      "/var/folders/dj/5c61qy0d0b9gcj0yrt1jd2300000gn/T/ipykernel_5229/1903745058.py:2: DeprecationWarning: executable_path has been deprecated, please pass in a Service object\n",
      "  driver = webdriver.Chrome(ChromeDriverManager().install())\n"
     ]
    }
   ],
   "source": [
    "#open Selenium Chrome webdriver\n",
    "driver = webdriver.Chrome(ChromeDriverManager().install())"
   ]
  },
  {
   "cell_type": "code",
   "execution_count": 207,
   "id": "9922f503",
   "metadata": {},
   "outputs": [],
   "source": [
    "#driver opens the link needed in order to find all PDFs related to LGPD \n",
    "driver.get(\"http://buscaprecedentes.cgu.gov.br/busca/SitePages/resultadopesquisa.aspx?k=ALL(lgpd)\")"
   ]
  },
  {
   "cell_type": "code",
   "execution_count": 208,
   "id": "531b28ca",
   "metadata": {},
   "outputs": [],
   "source": [
    "#step one: create a list with links from all the pages\n",
    "\n",
    "#create a list with all links containing CGU decisions related to LGPD, page to page\n",
    "list_of_links = []\n",
    "#try to open up to 100 pages in order to find those links\n",
    "for i in range(100):\n",
    "    for pedido in driver.find_elements(By.CLASS_NAME, 'ms-srch-ellipsis'):\n",
    "        links = pedido.find_elements(By.TAG_NAME, 'a')\n",
    "        for link in links:\n",
    "            caso = link.get_attribute('href')\n",
    "            list_of_links.append(caso)\n",
    "    #click on the next page\n",
    "    try:\n",
    "        driver.find_element(By.XPATH, '//*[@id=\"PageLinkNext\"]').click()\n",
    "        time.sleep(2)\n",
    "    except:\n",
    "        break\n"
   ]
  },
  {
   "cell_type": "code",
   "execution_count": null,
   "id": "c4e5fd44",
   "metadata": {},
   "outputs": [
    {
     "name": "stderr",
     "output_type": "stream",
     "text": [
      "2021-12-04 18:59:57,780 [MainThread  ] [INFO ]  Retrieving http://buscaprecedentes.cgu.gov.br/busca/dados/Precedente/08198029455202191_CGU.pdf#search=ALL%28lgpd%29 to /var/folders/dj/5c61qy0d0b9gcj0yrt1jd2300000gn/T/busca-dados-precedente-08198029455202191_cgu.pdf.\n",
      "2021-12-04 18:59:58,997 [MainThread  ] [INFO ]  Retrieving http://buscaprecedentes.cgu.gov.br/busca/dados/Precedente/00137009925202111_CGU.pdf#search=ALL%28lgpd%29 to /var/folders/dj/5c61qy0d0b9gcj0yrt1jd2300000gn/T/busca-dados-precedente-00137009925202111_cgu.pdf.\n",
      "2021-12-04 19:00:00,483 [MainThread  ] [INFO ]  Retrieving http://buscaprecedentes.cgu.gov.br/busca/dados/Precedente/00137010897202177_CGU.pdf#search=ALL%28lgpd%29 to /var/folders/dj/5c61qy0d0b9gcj0yrt1jd2300000gn/T/busca-dados-precedente-00137010897202177_cgu.pdf.\n",
      "2021-12-04 19:00:02,084 [MainThread  ] [INFO ]  Retrieving http://buscaprecedentes.cgu.gov.br/busca/dados/Precedente/00137022808202054_CGU.pdf#search=ALL%28lgpd%29 to /var/folders/dj/5c61qy0d0b9gcj0yrt1jd2300000gn/T/busca-dados-precedente-00137022808202054_cgu.pdf.\n",
      "2021-12-04 19:00:03,479 [MainThread  ] [INFO ]  Retrieving http://buscaprecedentes.cgu.gov.br/busca/dados/Precedente/00137003633202167_CGU.pdf#search=ALL%28lgpd%29 to /var/folders/dj/5c61qy0d0b9gcj0yrt1jd2300000gn/T/busca-dados-precedente-00137003633202167_cgu.pdf.\n",
      "2021-12-04 19:00:04,927 [MainThread  ] [INFO ]  Retrieving http://buscaprecedentes.cgu.gov.br/busca/dados/Precedente/00137008313202101_CGU.pdf#search=ALL%28lgpd%29 to /var/folders/dj/5c61qy0d0b9gcj0yrt1jd2300000gn/T/busca-dados-precedente-00137008313202101_cgu.pdf.\n",
      "2021-12-04 19:00:06,334 [MainThread  ] [INFO ]  Retrieving http://buscaprecedentes.cgu.gov.br/busca/dados/Precedente/00137004027202169_CGU.pdf#search=ALL%28lgpd%29 to /var/folders/dj/5c61qy0d0b9gcj0yrt1jd2300000gn/T/busca-dados-precedente-00137004027202169_cgu.pdf.\n",
      "2021-12-04 19:00:07,782 [MainThread  ] [INFO ]  Retrieving http://buscaprecedentes.cgu.gov.br/busca/dados/Precedente/00137006543202128_CGU.pdf#search=ALL%28lgpd%29 to /var/folders/dj/5c61qy0d0b9gcj0yrt1jd2300000gn/T/busca-dados-precedente-00137006543202128_cgu.pdf.\n",
      "2021-12-04 19:00:09,242 [MainThread  ] [INFO ]  Retrieving http://buscaprecedentes.cgu.gov.br/busca/dados/Precedente/00137010097202156_CGU.pdf#search=ALL%28lgpd%29 to /var/folders/dj/5c61qy0d0b9gcj0yrt1jd2300000gn/T/busca-dados-precedente-00137010097202156_cgu.pdf.\n",
      "2021-12-04 19:00:10,526 [MainThread  ] [INFO ]  Retrieving http://buscaprecedentes.cgu.gov.br/busca/dados/Precedente/50001004764202175_CGU.pdf#search=ALL%28lgpd%29 to /var/folders/dj/5c61qy0d0b9gcj0yrt1jd2300000gn/T/busca-dados-precedente-50001004764202175_cgu.pdf.\n",
      "2021-12-04 19:00:11,940 [MainThread  ] [INFO ]  Retrieving http://buscaprecedentes.cgu.gov.br/busca/dados/Precedente/60143000917202144_CGU.pdf#search=ALL%28lgpd%29 to /var/folders/dj/5c61qy0d0b9gcj0yrt1jd2300000gn/T/busca-dados-precedente-60143000917202144_cgu.pdf.\n",
      "2021-12-04 19:00:13,574 [MainThread  ] [INFO ]  Retrieving http://buscaprecedentes.cgu.gov.br/busca/dados/Precedente/08198012100202163_CGU.pdf#search=ALL%28lgpd%29 to /var/folders/dj/5c61qy0d0b9gcj0yrt1jd2300000gn/T/busca-dados-precedente-08198012100202163_cgu.pdf.\n",
      "2021-12-04 19:00:14,798 [MainThread  ] [INFO ]  Retrieving http://buscaprecedentes.cgu.gov.br/busca/dados/Precedente/00137003711202123_CGU.pdf#search=ALL%28lgpd%29 to /var/folders/dj/5c61qy0d0b9gcj0yrt1jd2300000gn/T/busca-dados-precedente-00137003711202123_cgu.pdf.\n",
      "2021-12-04 19:00:16,172 [MainThread  ] [INFO ]  Retrieving http://buscaprecedentes.cgu.gov.br/busca/dados/Precedente/00137003719202190_CGU.pdf#search=ALL%28lgpd%29 to /var/folders/dj/5c61qy0d0b9gcj0yrt1jd2300000gn/T/busca-dados-precedente-00137003719202190_cgu.pdf.\n",
      "2021-12-04 19:00:17,629 [MainThread  ] [INFO ]  Retrieving http://buscaprecedentes.cgu.gov.br/busca/dados/Precedente/01217006788202128_CGU.pdf#search=ALL%28lgpd%29 to /var/folders/dj/5c61qy0d0b9gcj0yrt1jd2300000gn/T/busca-dados-precedente-01217006788202128_cgu.pdf.\n",
      "2021-12-04 19:00:18,869 [MainThread  ] [INFO ]  Retrieving http://buscaprecedentes.cgu.gov.br/busca/dados/Precedente/53005004814202172_CGU.pdf#search=ALL%28lgpd%29 to /var/folders/dj/5c61qy0d0b9gcj0yrt1jd2300000gn/T/busca-dados-precedente-53005004814202172_cgu.pdf.\n",
      "2021-12-04 19:00:20,091 [MainThread  ] [INFO ]  Retrieving http://buscaprecedentes.cgu.gov.br/busca/dados/Precedente/72020002003202011_CGU.pdf#search=ALL%28lgpd%29 to /var/folders/dj/5c61qy0d0b9gcj0yrt1jd2300000gn/T/busca-dados-precedente-72020002003202011_cgu.pdf.\n",
      "2021-12-04 19:00:21,564 [MainThread  ] [INFO ]  Retrieving http://buscaprecedentes.cgu.gov.br/busca/dados/Precedente/25072015288202056_CGU.pdf#search=ALL%28lgpd%29 to /var/folders/dj/5c61qy0d0b9gcj0yrt1jd2300000gn/T/busca-dados-precedente-25072015288202056_cgu.pdf.\n",
      "2021-12-04 19:00:22,962 [MainThread  ] [INFO ]  Retrieving http://buscaprecedentes.cgu.gov.br/busca/dados/Precedente/25072007041202147_CGU.pdf#search=ALL%28lgpd%29 to /var/folders/dj/5c61qy0d0b9gcj0yrt1jd2300000gn/T/busca-dados-precedente-25072007041202147_cgu.pdf.\n",
      "2021-12-04 19:00:24,390 [MainThread  ] [INFO ]  Retrieving http://buscaprecedentes.cgu.gov.br/busca/dados/Precedente/00137012290202121_CGU.pdf#search=ALL%28lgpd%29 to /var/folders/dj/5c61qy0d0b9gcj0yrt1jd2300000gn/T/busca-dados-precedente-00137012290202121_cgu.pdf.\n",
      "2021-12-04 19:00:25,849 [MainThread  ] [INFO ]  Retrieving http://buscaprecedentes.cgu.gov.br/busca/dados/Precedente/25072006338202195_CGU.pdf#search=ALL%28lgpd%29 to /var/folders/dj/5c61qy0d0b9gcj0yrt1jd2300000gn/T/busca-dados-precedente-25072006338202195_cgu.pdf.\n",
      "2021-12-04 19:00:27,442 [MainThread  ] [INFO ]  Retrieving http://buscaprecedentes.cgu.gov.br/busca/dados/Precedente/03005106317202130_CGU.pdf#search=ALL%28lgpd%29 to /var/folders/dj/5c61qy0d0b9gcj0yrt1jd2300000gn/T/busca-dados-precedente-03005106317202130_cgu.pdf.\n",
      "2021-12-04 19:00:28,635 [MainThread  ] [INFO ]  Retrieving http://buscaprecedentes.cgu.gov.br/busca/dados/Precedente/18840001129202061_CGU.pdf#search=ALL%28lgpd%29 to /var/folders/dj/5c61qy0d0b9gcj0yrt1jd2300000gn/T/busca-dados-precedente-18840001129202061_cgu.pdf.\n",
      "2021-12-04 19:00:29,884 [MainThread  ] [INFO ]  Retrieving http://buscaprecedentes.cgu.gov.br/busca/dados/Precedente/23480013430202093_CGU.pdf#search=ALL%28lgpd%29 to /var/folders/dj/5c61qy0d0b9gcj0yrt1jd2300000gn/T/busca-dados-precedente-23480013430202093_cgu.pdf.\n",
      "2021-12-04 19:00:31,412 [MainThread  ] [INFO ]  Retrieving http://buscaprecedentes.cgu.gov.br/busca/dados/Precedente/25072013295202102_CGU.pdf#search=ALL%28lgpd%29 to /var/folders/dj/5c61qy0d0b9gcj0yrt1jd2300000gn/T/busca-dados-precedente-25072013295202102_cgu.pdf.\n",
      "2021-12-04 19:00:32,776 [MainThread  ] [INFO ]  Retrieving http://buscaprecedentes.cgu.gov.br/busca/dados/Precedente/03005100806202188_CGU.pdf#search=ALL%28lgpd%29 to /var/folders/dj/5c61qy0d0b9gcj0yrt1jd2300000gn/T/busca-dados-precedente-03005100806202188_cgu.pdf.\n",
      "2021-12-04 19:00:33,988 [MainThread  ] [INFO ]  Retrieving http://buscaprecedentes.cgu.gov.br/busca/dados/Precedente/23480024724201915_CGU.pdf#search=ALL%28lgpd%29 to /var/folders/dj/5c61qy0d0b9gcj0yrt1jd2300000gn/T/busca-dados-precedente-23480024724201915_cgu.pdf.\n",
      "2021-12-04 19:00:35,641 [MainThread  ] [INFO ]  Retrieving http://buscaprecedentes.cgu.gov.br/busca/dados/Precedente/23546048245202199_CGU.pdf#search=ALL%28lgpd%29 to /var/folders/dj/5c61qy0d0b9gcj0yrt1jd2300000gn/T/busca-dados-precedente-23546048245202199_cgu.pdf.\n",
      "2021-12-04 19:00:36,916 [MainThread  ] [INFO ]  Retrieving http://buscaprecedentes.cgu.gov.br/busca/dados/Precedente/03005081868202183_CGU.pdf#search=ALL%28lgpd%29 to /var/folders/dj/5c61qy0d0b9gcj0yrt1jd2300000gn/T/busca-dados-precedente-03005081868202183_cgu.pdf.\n",
      "2021-12-04 19:00:38,556 [MainThread  ] [INFO ]  Retrieving http://buscaprecedentes.cgu.gov.br/busca/dados/Precedente/23480002978202016_CGU.pdf#search=ALL%28lgpd%29 to /var/folders/dj/5c61qy0d0b9gcj0yrt1jd2300000gn/T/busca-dados-precedente-23480002978202016_cgu.pdf.\n",
      "2021-12-04 19:00:40,269 [MainThread  ] [INFO ]  Retrieving http://buscaprecedentes.cgu.gov.br/busca/dados/Precedente/60143000705202167_CGU.pdf#search=ALL%28lgpd%29 to /var/folders/dj/5c61qy0d0b9gcj0yrt1jd2300000gn/T/busca-dados-precedente-60143000705202167_cgu.pdf.\n",
      "2021-12-04 19:00:41,682 [MainThread  ] [INFO ]  Retrieving http://buscaprecedentes.cgu.gov.br/busca/dados/Precedente/53005000940202158_CGU.pdf#search=ALL%28lgpd%29 to /var/folders/dj/5c61qy0d0b9gcj0yrt1jd2300000gn/T/busca-dados-precedente-53005000940202158_cgu.pdf.\n",
      "2021-12-04 19:00:42,769 [MainThread  ] [INFO ]  Retrieving http://buscaprecedentes.cgu.gov.br/busca/dados/Precedente/99928000062202089_CGU.pdf#search=ALL%28lgpd%29 to /var/folders/dj/5c61qy0d0b9gcj0yrt1jd2300000gn/T/busca-dados-precedente-99928000062202089_cgu.pdf.\n",
      "2021-12-04 19:00:44,619 [MainThread  ] [INFO ]  Retrieving http://buscaprecedentes.cgu.gov.br/busca/dados/Precedente/00137012258202146_CGU.pdf#search=ALL%28lgpd%29 to /var/folders/dj/5c61qy0d0b9gcj0yrt1jd2300000gn/T/busca-dados-precedente-00137012258202146_cgu.pdf.\n",
      "2021-12-04 19:00:46,015 [MainThread  ] [INFO ]  Retrieving http://buscaprecedentes.cgu.gov.br/busca/dados/Precedente/00137011518202166_CGU.pdf#search=ALL%28lgpd%29 to /var/folders/dj/5c61qy0d0b9gcj0yrt1jd2300000gn/T/busca-dados-precedente-00137011518202166_cgu.pdf.\n",
      "2021-12-04 19:00:47,324 [MainThread  ] [INFO ]  Retrieving http://buscaprecedentes.cgu.gov.br/busca/dados/Precedente/23480023751201962_CGU.pdf#search=ALL%28lgpd%29 to /var/folders/dj/5c61qy0d0b9gcj0yrt1jd2300000gn/T/busca-dados-precedente-23480023751201962_cgu.pdf.\n",
      "2021-12-04 19:00:48,847 [MainThread  ] [INFO ]  Retrieving http://buscaprecedentes.cgu.gov.br/busca/dados/Precedente/60000001146202137_CGU.pdf#search=ALL%28lgpd%29 to /var/folders/dj/5c61qy0d0b9gcj0yrt1jd2300000gn/T/busca-dados-precedente-60000001146202137_cgu.pdf.\n",
      "2021-12-04 19:00:50,463 [MainThread  ] [INFO ]  Retrieving http://buscaprecedentes.cgu.gov.br/busca/dados/Precedente/18870003450202022_CGU.pdf#search=ALL%28lgpd%29 to /var/folders/dj/5c61qy0d0b9gcj0yrt1jd2300000gn/T/busca-dados-precedente-18870003450202022_cgu.pdf.\n",
      "2021-12-04 19:00:52,279 [MainThread  ] [INFO ]  Retrieving http://buscaprecedentes.cgu.gov.br/busca/dados/Precedente/03005086770202112_CGU.pdf#search=ALL%28lgpd%29 to /var/folders/dj/5c61qy0d0b9gcj0yrt1jd2300000gn/T/busca-dados-precedente-03005086770202112_cgu.pdf.\n",
      "2021-12-04 19:00:53,453 [MainThread  ] [INFO ]  Retrieving http://buscaprecedentes.cgu.gov.br/busca/dados/Precedente/03005086771202167_CGU.pdf#search=ALL%28lgpd%29 to /var/folders/dj/5c61qy0d0b9gcj0yrt1jd2300000gn/T/busca-dados-precedente-03005086771202167_cgu.pdf.\n",
      "2021-12-04 19:00:54,646 [MainThread  ] [INFO ]  Retrieving http://buscaprecedentes.cgu.gov.br/busca/dados/Precedente/60000001304202078_CGU.pdf#search=ALL%28lgpd%29 to /var/folders/dj/5c61qy0d0b9gcj0yrt1jd2300000gn/T/busca-dados-precedente-60000001304202078_cgu.pdf.\n",
      "2021-12-04 19:00:56,059 [MainThread  ] [INFO ]  Retrieving http://buscaprecedentes.cgu.gov.br/busca/dados/Precedente/25072016836202146_CGU.pdf#search=ALL%28lgpd%29 to /var/folders/dj/5c61qy0d0b9gcj0yrt1jd2300000gn/T/busca-dados-precedente-25072016836202146_cgu.pdf.\n",
      "2021-12-04 19:00:57,274 [MainThread  ] [INFO ]  Retrieving http://buscaprecedentes.cgu.gov.br/busca/dados/Precedente/53005000988202166_CMRI.pdf#search=ALL%28lgpd%29 to /var/folders/dj/5c61qy0d0b9gcj0yrt1jd2300000gn/T/busca-dados-precedente-53005000988202166_cmri.pdf.\n",
      "2021-12-04 19:00:58,470 [MainThread  ] [INFO ]  Retrieving http://buscaprecedentes.cgu.gov.br/busca/dados/Precedente/03005109532202192_CGU.pdf#search=ALL%28lgpd%29 to /var/folders/dj/5c61qy0d0b9gcj0yrt1jd2300000gn/T/busca-dados-precedente-03005109532202192_cgu.pdf.\n"
     ]
    },
    {
     "name": "stdout",
     "output_type": "stream",
     "text": [
      "It did not work for request number 43\n"
     ]
    },
    {
     "name": "stderr",
     "output_type": "stream",
     "text": [
      "2021-12-04 19:00:59,705 [MainThread  ] [INFO ]  Retrieving http://buscaprecedentes.cgu.gov.br/busca/dados/Precedente/53005000988202166_CGU.pdf#search=ALL%28lgpd%29 to /var/folders/dj/5c61qy0d0b9gcj0yrt1jd2300000gn/T/busca-dados-precedente-53005000988202166_cgu.pdf.\n",
      "2021-12-04 19:01:00,752 [MainThread  ] [INFO ]  Retrieving http://buscaprecedentes.cgu.gov.br/busca/dados/Precedente/23480020815202015_CGU.pdf#search=ALL%28lgpd%29 to /var/folders/dj/5c61qy0d0b9gcj0yrt1jd2300000gn/T/busca-dados-precedente-23480020815202015_cgu.pdf.\n",
      "2021-12-04 19:01:02,176 [MainThread  ] [INFO ]  Retrieving http://buscaprecedentes.cgu.gov.br/busca/dados/Precedente/23546020158202177_CGU.pdf#search=ALL%28lgpd%29 to /var/folders/dj/5c61qy0d0b9gcj0yrt1jd2300000gn/T/busca-dados-precedente-23546020158202177_cgu.pdf.\n",
      "2021-12-04 19:01:03,623 [MainThread  ] [INFO ]  Retrieving http://buscaprecedentes.cgu.gov.br/busca/dados/Precedente/99928000303202090_CGU.pdf#search=ALL%28lgpd%29 to /var/folders/dj/5c61qy0d0b9gcj0yrt1jd2300000gn/T/busca-dados-precedente-99928000303202090_cgu.pdf.\n",
      "2021-12-04 19:01:05,174 [MainThread  ] [INFO ]  Retrieving http://buscaprecedentes.cgu.gov.br/busca/dados/Precedente/23480025698201934_CGU.pdf#search=ALL%28lgpd%29 to /var/folders/dj/5c61qy0d0b9gcj0yrt1jd2300000gn/T/busca-dados-precedente-23480025698201934_cgu.pdf.\n",
      "2021-12-04 19:01:06,477 [MainThread  ] [INFO ]  Retrieving http://buscaprecedentes.cgu.gov.br/busca/dados/Precedente/23546007590202172_CMRI.pdf#search=ALL%28lgpd%29 to /var/folders/dj/5c61qy0d0b9gcj0yrt1jd2300000gn/T/busca-dados-precedente-23546007590202172_cmri.pdf.\n",
      "2021-12-04 19:01:07,712 [MainThread  ] [INFO ]  Retrieving http://buscaprecedentes.cgu.gov.br/busca/dados/Precedente/00137006559202131_CGU.pdf#search=ALL%28lgpd%29 to /var/folders/dj/5c61qy0d0b9gcj0yrt1jd2300000gn/T/busca-dados-precedente-00137006559202131_cgu.pdf.\n"
     ]
    },
    {
     "name": "stdout",
     "output_type": "stream",
     "text": [
      "It did not work for request number 50\n"
     ]
    },
    {
     "name": "stderr",
     "output_type": "stream",
     "text": [
      "2021-12-04 19:01:08,898 [MainThread  ] [INFO ]  Retrieving http://buscaprecedentes.cgu.gov.br/busca/dados/Precedente/23546017582202134_CGU.pdf#search=ALL%28lgpd%29 to /var/folders/dj/5c61qy0d0b9gcj0yrt1jd2300000gn/T/busca-dados-precedente-23546017582202134_cgu.pdf.\n",
      "2021-12-04 19:01:10,124 [MainThread  ] [INFO ]  Retrieving http://buscaprecedentes.cgu.gov.br/busca/dados/Precedente/53005001725202174_CGU.pdf#search=ALL%28lgpd%29 to /var/folders/dj/5c61qy0d0b9gcj0yrt1jd2300000gn/T/busca-dados-precedente-53005001725202174_cgu.pdf.\n",
      "2021-12-04 19:01:11,317 [MainThread  ] [INFO ]  Retrieving http://buscaprecedentes.cgu.gov.br/busca/dados/Precedente/03005133404202160_CGU.pdf#search=ALL%28lgpd%29 to /var/folders/dj/5c61qy0d0b9gcj0yrt1jd2300000gn/T/busca-dados-precedente-03005133404202160_cgu.pdf.\n",
      "2021-12-04 19:01:12,537 [MainThread  ] [INFO ]  Retrieving http://buscaprecedentes.cgu.gov.br/busca/dados/Precedente/01217004521202015_CGU.pdf#search=ALL%28lgpd%29 to /var/folders/dj/5c61qy0d0b9gcj0yrt1jd2300000gn/T/busca-dados-precedente-01217004521202015_cgu.pdf.\n",
      "2021-12-04 19:01:13,944 [MainThread  ] [INFO ]  Retrieving http://buscaprecedentes.cgu.gov.br/busca/dados/Precedente/00077001505202050_CGU.pdf#search=ALL%28lgpd%29 to /var/folders/dj/5c61qy0d0b9gcj0yrt1jd2300000gn/T/busca-dados-precedente-00077001505202050_cgu.pdf.\n",
      "2021-12-04 19:01:15,819 [MainThread  ] [INFO ]  Retrieving http://buscaprecedentes.cgu.gov.br/busca/dados/Precedente/23546046100202072_CGU.pdf#search=ALL%28lgpd%29 to /var/folders/dj/5c61qy0d0b9gcj0yrt1jd2300000gn/T/busca-dados-precedente-23546046100202072_cgu.pdf.\n",
      "2021-12-04 19:01:17,190 [MainThread  ] [INFO ]  Retrieving http://buscaprecedentes.cgu.gov.br/busca/dados/Precedente/23546037520202149_CGU.pdf#search=ALL%28lgpd%29 to /var/folders/dj/5c61qy0d0b9gcj0yrt1jd2300000gn/T/busca-dados-precedente-23546037520202149_cgu.pdf.\n",
      "2021-12-04 19:01:18,730 [MainThread  ] [INFO ]  Retrieving http://buscaprecedentes.cgu.gov.br/busca/dados/Precedente/00137017789202044_CGU.pdf#search=ALL%28lgpd%29 to /var/folders/dj/5c61qy0d0b9gcj0yrt1jd2300000gn/T/busca-dados-precedente-00137017789202044_cgu.pdf.\n",
      "2021-12-04 19:01:20,152 [MainThread  ] [INFO ]  Retrieving http://buscaprecedentes.cgu.gov.br/busca/dados/Precedente/09002001842202176_CGU.pdf#search=ALL%28lgpd%29 to /var/folders/dj/5c61qy0d0b9gcj0yrt1jd2300000gn/T/busca-dados-precedente-09002001842202176_cgu.pdf.\n",
      "2021-12-04 19:01:21,618 [MainThread  ] [INFO ]  Retrieving http://buscaprecedentes.cgu.gov.br/busca/dados/Precedente/23546010778202106_CMRI.pdf#search=ALL%28lgpd%29 to /var/folders/dj/5c61qy0d0b9gcj0yrt1jd2300000gn/T/busca-dados-precedente-23546010778202106_cmri.pdf.\n",
      "2021-12-04 19:01:22,851 [MainThread  ] [INFO ]  Retrieving http://buscaprecedentes.cgu.gov.br/busca/dados/Precedente/03005115986202101_CGU.pdf#search=ALL%28lgpd%29 to /var/folders/dj/5c61qy0d0b9gcj0yrt1jd2300000gn/T/busca-dados-precedente-03005115986202101_cgu.pdf.\n"
     ]
    },
    {
     "name": "stdout",
     "output_type": "stream",
     "text": [
      "It did not work for request number 61\n"
     ]
    },
    {
     "name": "stderr",
     "output_type": "stream",
     "text": [
      "2021-12-04 19:01:24,296 [MainThread  ] [INFO ]  Retrieving http://buscaprecedentes.cgu.gov.br/busca/dados/Precedente/23546034460202111_CGU.pdf#search=ALL%28lgpd%29 to /var/folders/dj/5c61qy0d0b9gcj0yrt1jd2300000gn/T/busca-dados-precedente-23546034460202111_cgu.pdf.\n",
      "2021-12-04 19:01:26,582 [MainThread  ] [INFO ]  Retrieving http://buscaprecedentes.cgu.gov.br/busca/dados/Precedente/01217004521202015_CMRI.pdf#search=ALL%28lgpd%29 to /var/folders/dj/5c61qy0d0b9gcj0yrt1jd2300000gn/T/busca-dados-precedente-01217004521202015_cmri.pdf.\n",
      "2021-12-04 19:01:27,759 [MainThread  ] [INFO ]  Retrieving http://buscaprecedentes.cgu.gov.br/busca/dados/Precedente/23546065259202177_CGU.pdf#search=ALL%28lgpd%29 to /var/folders/dj/5c61qy0d0b9gcj0yrt1jd2300000gn/T/busca-dados-precedente-23546065259202177_cgu.pdf.\n"
     ]
    },
    {
     "name": "stdout",
     "output_type": "stream",
     "text": [
      "It did not work for request number 64\n"
     ]
    },
    {
     "name": "stderr",
     "output_type": "stream",
     "text": [
      "2021-12-04 19:01:29,508 [MainThread  ] [INFO ]  Retrieving http://buscaprecedentes.cgu.gov.br/busca/dados/Precedente/00137011111202139_CGU.pdf#search=ALL%28lgpd%29 to /var/folders/dj/5c61qy0d0b9gcj0yrt1jd2300000gn/T/busca-dados-precedente-00137011111202139_cgu.pdf.\n",
      "2021-12-04 19:01:31,220 [MainThread  ] [INFO ]  Retrieving http://buscaprecedentes.cgu.gov.br/busca/dados/Precedente/00137011286202146_CGU.pdf#search=ALL%28lgpd%29 to /var/folders/dj/5c61qy0d0b9gcj0yrt1jd2300000gn/T/busca-dados-precedente-00137011286202146_cgu.pdf.\n",
      "2021-12-04 19:01:33,094 [MainThread  ] [INFO ]  Retrieving http://buscaprecedentes.cgu.gov.br/busca/dados/Precedente/00117000033202185_CGU.pdf#search=ALL%28lgpd%29 to /var/folders/dj/5c61qy0d0b9gcj0yrt1jd2300000gn/T/busca-dados-precedente-00117000033202185_cgu.pdf.\n",
      "2021-12-04 19:01:34,381 [MainThread  ] [INFO ]  Retrieving http://buscaprecedentes.cgu.gov.br/busca/dados/Precedente/00117000031202196_CGU.pdf#search=ALL%28lgpd%29 to /var/folders/dj/5c61qy0d0b9gcj0yrt1jd2300000gn/T/busca-dados-precedente-00117000031202196_cgu.pdf.\n",
      "2021-12-04 19:01:35,778 [MainThread  ] [INFO ]  Retrieving http://buscaprecedentes.cgu.gov.br/busca/dados/Precedente/00077002051202034_CGU.pdf#search=ALL%28lgpd%29 to /var/folders/dj/5c61qy0d0b9gcj0yrt1jd2300000gn/T/busca-dados-precedente-00077002051202034_cgu.pdf.\n",
      "2021-12-04 19:01:37,423 [MainThread  ] [INFO ]  Retrieving http://buscaprecedentes.cgu.gov.br/busca/dados/Precedente/23546020946202163_CGU.pdf#search=ALL%28lgpd%29 to /var/folders/dj/5c61qy0d0b9gcj0yrt1jd2300000gn/T/busca-dados-precedente-23546020946202163_cgu.pdf.\n",
      "2021-12-04 19:01:38,696 [MainThread  ] [INFO ]  Retrieving http://buscaprecedentes.cgu.gov.br/busca/dados/Precedente/53005000940202158_CMRI.pdf#search=ALL%28lgpd%29 to /var/folders/dj/5c61qy0d0b9gcj0yrt1jd2300000gn/T/busca-dados-precedente-53005000940202158_cmri.pdf.\n",
      "2021-12-04 19:01:39,732 [MainThread  ] [INFO ]  Retrieving http://buscaprecedentes.cgu.gov.br/busca/dados/Precedente/25820006990202019_CMRI.pdf#search=ALL%28lgpd%29 to /var/folders/dj/5c61qy0d0b9gcj0yrt1jd2300000gn/T/busca-dados-precedente-25820006990202019_cmri.pdf.\n"
     ]
    },
    {
     "name": "stdout",
     "output_type": "stream",
     "text": [
      "It did not work for request number 72\n"
     ]
    },
    {
     "name": "stderr",
     "output_type": "stream",
     "text": [
      "2021-12-04 19:01:40,769 [MainThread  ] [INFO ]  Retrieving http://buscaprecedentes.cgu.gov.br/busca/dados/Precedente/48003003598202047_CGU.pdf#search=ALL%28lgpd%29 to /var/folders/dj/5c61qy0d0b9gcj0yrt1jd2300000gn/T/busca-dados-precedente-48003003598202047_cgu.pdf.\n"
     ]
    },
    {
     "name": "stdout",
     "output_type": "stream",
     "text": [
      "It did not work for request number 73\n"
     ]
    },
    {
     "name": "stderr",
     "output_type": "stream",
     "text": [
      "2021-12-04 19:01:42,463 [MainThread  ] [INFO ]  Retrieving http://buscaprecedentes.cgu.gov.br/busca/dados/Precedente/23480028289201990_CGU.pdf#search=ALL%28lgpd%29 to /var/folders/dj/5c61qy0d0b9gcj0yrt1jd2300000gn/T/busca-dados-precedente-23480028289201990_cgu.pdf.\n",
      "2021-12-04 19:01:44,139 [MainThread  ] [INFO ]  Retrieving http://buscaprecedentes.cgu.gov.br/busca/dados/Precedente/23546058944202147_CGU.pdf#search=ALL%28lgpd%29 to /var/folders/dj/5c61qy0d0b9gcj0yrt1jd2300000gn/T/busca-dados-precedente-23546058944202147_cgu.pdf.\n",
      "2021-12-04 19:01:46,127 [MainThread  ] [INFO ]  Retrieving http://buscaprecedentes.cgu.gov.br/busca/dados/Precedente/23546061550202176_CGU.pdf#search=ALL%28lgpd%29 to /var/folders/dj/5c61qy0d0b9gcj0yrt1jd2300000gn/T/busca-dados-precedente-23546061550202176_cgu.pdf.\n",
      "2021-12-04 19:01:47,447 [MainThread  ] [INFO ]  Retrieving http://buscaprecedentes.cgu.gov.br/busca/dados/Precedente/23546056698202016_CGU.pdf#search=ALL%28lgpd%29 to /var/folders/dj/5c61qy0d0b9gcj0yrt1jd2300000gn/T/busca-dados-precedente-23546056698202016_cgu.pdf.\n",
      "2021-12-04 19:01:49,046 [MainThread  ] [INFO ]  Retrieving http://buscaprecedentes.cgu.gov.br/busca/dados/Precedente/00137011166202149_CGU.pdf#search=ALL%28lgpd%29 to /var/folders/dj/5c61qy0d0b9gcj0yrt1jd2300000gn/T/busca-dados-precedente-00137011166202149_cgu.pdf.\n"
     ]
    }
   ],
   "source": [
    "# step2: loop through those links, open the pdfs, read them, get the part of the text where the final decision...\n",
    "# ...is written and then save it into a list.\n",
    "\n",
    "\n",
    "# count the decision number\n",
    "list_of_contents = []\n",
    "request_n = 0\n",
    "\n",
    "# loop through every link, get the text from PDF using Tika, use regex to extract only the parts that I need\n",
    "# and then only print those parts\n",
    "\n",
    "for a in list_of_links:\n",
    "    request_n = request_n + 1\n",
    "    url = a\n",
    "    pdfFile = parser.from_file(url)\n",
    "    final = (pdfFile[\"content\"])\n",
    "    final = final.replace('\\n', ' ')\n",
    "    somente_decisao = r\"\\w\\s\\w\\s\\w\\s\\w\\s\\w\\s\\w\\s\\w\\s((.|\\n)*)\"\n",
    "    decisao = re.findall(somente_decisao, final)\n",
    "    try:\n",
    "        list_of_contents.append(decisao[0])\n",
    "    except:\n",
    "        print(f'It did not work for request number {request_n}' )\n",
    "#     somente_inicial = r\"Inicial\\:(.*\\n.*\\n.*\\n.*\\n)\"\n",
    "#     pedido_inicial = re.findall(somente_inicial,textooo)\n",
    "#     pedido_inicial[0]\n",
    "#     print(f'------Este foi o pedido inicial: ------ {pedido_inicial[0]}------')"
   ]
  },
  {
   "cell_type": "code",
   "execution_count": 218,
   "id": "d7f1b676",
   "metadata": {},
   "outputs": [
    {
     "name": "stdout",
     "output_type": "stream",
     "text": [
      "There are 221 links and 10 contents.\n"
     ]
    }
   ],
   "source": [
    "#check if we've got everything\n",
    "count_link = len(list_of_links)\n",
    "count_content = len(list_of_contents)\n",
    "\n",
    "print(f'There are {count_link} links and {count_content} contents.')"
   ]
  },
  {
   "cell_type": "code",
   "execution_count": 224,
   "id": "fff94f7a",
   "metadata": {},
   "outputs": [
    {
     "name": "stdout",
     "output_type": "stream",
     "text": [
      "------\n",
      "(' No exercício das atribuições a mim conferidas pelo Decreto nº 9.681, de 03 de janeiro de 2019, adoto, como fundamento deste ato, nos termos do art. 23 do Decreto nº 7.724/2012, o parecer anexo, para decidir pelo�não conhecimento�do recurso interposto, no âmbito do pedido de informação 08198.029455/2021-91, direcionado ao Ministério da Justiça e Segurança Pública - MJSP.      FÁBIO DO VALLE VALGAS DA SILVA  Ouvidor-Geral da União – Adjunto     Entenda a decisão da CGU:   Não conhecimento - O recurso não foi analisado no mérito pela CGU, pois não atende a algum requisito que permita essa análise: a informação foi declarada inexistente pelo órgão, o pedido não pode ser atendido por meio da Lei de Acesso à Informação, a informação está classificada, entre outros.   Perda (parcial) do objeto - A informação solicitada (ou parte dela) foi disponibilizada pelo órgão antes da decisão da CGU, usualmente por e-mail. A perda do objeto do recurso também é reconhecida nos casos em que�o órgão se compromete a disponibilizar a informação solicitada (ou parte dela)�ao requerente em ocasião futura, indicando prazo, local e modo de acesso.   Desprovimento - O acesso à informação solicitada não é possível, uma vez que as razões apresentadas pelo órgão para negativa de acesso possuem fundamento legal.   Provimento (parcial) – A CGU determinou a entrega da informação (ou de parte dela) ao cidadão.      Conheça mais sobre a Lei de Acesso à Informação:   Portal “Acesso à Informação”  Parecer - Recurso de 3ª Instância 1459 (2197620)         SEI 08198.029455/2021-91 / pg. 4    https://www.gov.br/acessoainformacao/pt-br       Publicação “Aplicação da Lei de Acesso à Informação na Administração Pública Federal”   https://www.gov.br/acessoainformacao/pt-br/central-de-conteudo/publicacoes/arquivos/aplicacao- da-lai-2019.pdf      Decisões da CGU e da CMRI   http://buscaprecedentes.cgu.gov.br/busca/SitePages/principal.aspx       Busca de Pedidos e Respostas da LAI:   https://www.gov.br/acessoainformacao/pt-br/assuntos/busca-de-pedidos-e-respostas/busca-de- pedidos-e-respostas       Documento assinado eletronicamente por GABRIELA NOGUEIRA CUNHA FAMBRE GONÇALVES, Analista Administrativo, em 01/12/2021, às 09:25, conforme horário oficial de Brasília, com fundamento no § 3º do art. 4º do Decreto nº 10.543, de 13 de novembro de 2020.  Documento assinado eletronicamente por FABIO DO VALLE VALGAS DA SILVA, Ouvidor-Geral da União, Adjunto, em 02/12/2021, às 15:05, conforme horário oficial de Brasília, com fundamento no § 3º do art. 4º do Decreto nº 10.543, de 13 de novembro de 2020.   A autenticidade deste documento pode ser conferida no site  https://sei.cgu.gov.br/conferir informando o código verificador 2197620 e o código CRC 8D5CE21F Referência: Processo nº 08198.029455/2021-91 SEI nº 2197620  Parecer - Recurso de 3ª Instância 1459 (2197620)         SEI 08198.029455/2021-91 / pg. 5  https://www.gov.br/acessoainformacao/pt-br https://www.gov.br/acessoainformacao/pt-br/central-de-conteudo/publicacoes/arquivos/aplicacao-da-lai-2019.pdf http://buscaprecedentes.cgu.gov.br/busca/SitePages/principal.aspx https://www.gov.br/acessoainformacao/pt-br/assuntos/busca-de-pedidos-e-respostas/busca-de-pedidos-e-respostas  \\tParecer - Recurso de 3ª Instância 1459 (2197620)  ', ' ')\n",
      "------\n",
      "(' No exercício das atribuições a mim conferidas pelo Decreto nº 9.681, de 03 de janeiro de 2019, adoto, como fundamento deste ato, nos termos do art. 23 do Decreto nº 7.724/2012, o parecer anexo, para decidir pelo conhecimento e provimento parcial do recurso interposto, no âmbito do pedido de informação NUP 00137.009925/2021-11, direcionado ao Gabinete de Segurança Institucional da Presidência da República - GSI-PR. O órgão deverá, no prazo de 20 (vinte) dias, a contar da publicação desta decisão, disponibilizar os dados relativos aos registros de entrada e saída - no Palácio  Parecer - Recurso de 3ª Instância 1100 (2089994)         SEI 00137.009925/2021-11 / pg. 9  http://buscaprecedentes.cgu.gov.br/busca/dados/Precedente/00137010097202156_CGU.pdf#search=agenda e gsi http://buscaprecedentes.cgu.gov.br/busca/dados/Precedente/00137008313202101_CGU.pdf#search=00137%2E008313%2F2021%2D01 http://buscaprecedentes.cgu.gov.br/busca/dados/Precedente/00137004027202169_CGU.pdf#search=00137%2E004027%2F2021%2D69 http://buscaprecedentes.cgu.gov.br/busca/dados/Precedente/00137003719202190_CGU.pdf#search=00137%2E003719%2F2021%2D90 http://buscaprecedentes.cgu.gov.br/busca/dados/Precedente/00137006543202128_CGU.pdf#search=00137%2E006543%2F2021%2D28 file:///opt/v300/sei/temp/ http://www.planalto.gov.br/ccivil_03/_ato2015-2018/2018/lei/l13709.htm http://www.planalto.gov.br/ccivil_03/_ato2019-2022/2019/lei/L13844.htm http://www.planalto.gov.br/ccivil_03/_ato2011-2014/2011/lei/l12527.htm http://www.planalto.gov.br/ccivil_03/_ato2011-2014/2013/lei/l12813.htm   do Planalto e demais dependências da Presidência da República -, de janeiro de 2019 até a presente data, relacionados às três pessoas descritas no requerimento inicial. A informação deverá ser postada diretamente na Plataforma Fala.BR, na aba “Cumprimento de Decisão”, no prazo acima mencionado.    VALMIR GOMES DIAS Ouvidor-Geral da União      Entenda a decisão da CGU:  Não conhecimento - O recurso não foi analisado no mérito pela CGU, pois não atende a algum requisito que permita essa análise: a informação foi declarada inexistente pelo órgão, o pedido não pode ser atendido por meio da Lei de Acesso à Informação, a informação está classificada, entre outros.  Perda (parcial) do objeto - A informação solicitada (ou parte dela) foi disponibilizada pelo órgão antes da decisão da CGU, usualmente por e-mail. A perda do objeto do recurso também é reconhecida nos casos em queo órgão se compromete a disponibilizar a informação solicitada (ou parte dela)ao requerente em ocasião futura, indicando prazo, local e modo de acesso.  Desprovimento -O acesso à informação solicitada não é possível, uma vez que as razões apresentadas pelo órgão para negativa de acesso possuem fundamento legal.  Provimento (parcial) – A CGU determinou a entrega da informação (ou de parte dela) ao cidadão.    Conheça mais sobre a Lei de Acesso à Informação:  Portal “Acesso à Informação”  https://www.gov.br/acessoainformacao/pt-br   Publicação “Aplicação da Lei de Acesso à Informação na Administração Pública Federal”  https://www.gov.br/acessoainformacao/pt-br/central-de- conteudo/publicacoes/arquivos/aplicacao-da-lai-2019.pdf  Decisões da CGU e da CMRI  http://buscaprecedentes.cgu.gov.br/busca/SitePages/principal.aspx   Busca de Pedidos e Respostas da LAI:  https://www.gov.br/acessoainformacao/pt-br/assuntos/busca-de-pedidos-e- respostas/busca-de-pedidos-e-respostas                  Documento assinado eletronicamente por WALTER BARBOSA VITOR, Analista Administrativo, em 08/09/2021, às 17:56, conforme horário oficial de Brasília, com fundamento no § 3º do art. 4º do Decreto nº 10.543, de 13 de novembro de 2020.  Documento assinado eletronicamente por ISABELLA BRITO, Coordenador-Geral de Recursos de Acesso à Informação, Substituto, em 08/09/2021, às 17:57, conforme horário oficial de Brasília, com fundamento no § 3º do art. 4º do Decreto nº 10.543, de 13 de novembro de 2020.  Documento assinado eletronicamente por VALMIR GOMES DIAS, Ouvidor-Geral da União, em 08/09/2021, às 18:19, conforme horário oficial de Brasília, com fundamento no § 3º do art. 4º do Decreto nº 10.543, de 13 de novembro de 2020.   A autenticidade deste documento pode ser conferida no site  https://sei.cgu.gov.br/conferir informando o código verificador 2089994 e o código CRC 97C85387 Referência: Processo nº 00137.009925/2021-11 SEI nº 2089994  Parecer - Recurso de 3ª Instância 1100 (2089994)         SEI 00137.009925/2021-11 / pg. 10  https://www.gov.br/acessoainformacao/pt-br https://www.gov.br/acessoainformacao/pt-br/central-de-conteudo/publicacoes/arquivos/aplicacao-da-lai-2019.pdf http://buscaprecedentes.cgu.gov.br/busca/SitePages/principal.aspx https://www.gov.br/acessoainformacao/pt-br/assuntos/busca-de-pedidos-e-respostas/busca-de-pedidos-e-respostas  \\tParecer - Recurso de 3ª Instância 1100 (2089994)  ', ' ')\n",
      "------\n",
      "(' No exercício das atribuições a mim conferidas pelo Decreto nº 9.681, de 03 de janeiro de 2019, adoto, como fundamento deste ato, nos termos do art. 23 do Decreto nº 7.724/2012, o parecer anexo, para decidir pelo conhecimento e provimento parcial do recurso interposto, no âmbito do pedido de informação NUP 00137.010897/2021-77, direcionado ao Gabinete de Segurança Institucional da Presidência da República - GSI-PR. O órgão deverá, no prazo de 20 (vinte) dias, a contar da publicação desta decisão, disponibilizar ao requerente acesso à lista de registros de entrada e saída da pessoa, cujo nome é descrito no pedido inicial, nas dependências do órgão, desde janeiro 2019. A informação deverá ser postada diretamente na Plataforma Fala.BR, na aba “Cumprimento de Decisão”, no prazo acima mencionado.  Parecer - Recurso de 3ª Instância 1167 (2108632)         SEI 00137.010897/2021-77 / pg. 10         VALMIR GOMES DIAS Ouvidor-Geral da União      Entenda a decisão da CGU:  Não conhecimento - O recurso não foi analisado no mérito pela CGU, pois não atende a algum requisito que permita essa análise: a informação foi declarada inexistente pelo órgão, o pedido não pode ser atendido por meio da Lei de Acesso à Informação, a informação está classificada, entre outros.  Perda (parcial) do objeto - A informação solicitada (ou parte dela) foi disponibilizada pelo órgão antes da decisão da CGU, usualmente por e-mail. A perda do objeto do recurso também é reconhecida nos casos em queo órgão se compromete a disponibilizar a informação solicitada (ou parte dela)ao requerente em ocasião futura, indicando prazo, local e modo de acesso.  Desprovimento -O acesso à informação solicitada não é possível, uma vez que as razões apresentadas pelo órgão para negativa de acesso possuem fundamento legal.  Provimento (parcial) – A CGU determinou a entrega da informação (ou de parte dela) ao cidadão.    Conheça mais sobre a Lei de Acesso à Informação:  Portal “Acesso à Informação”  https://www.gov.br/acessoainformacao/pt-br   Publicação “Aplicação da Lei de Acesso à Informação na Administração Pública Federal”  https://www.gov.br/acessoainformacao/pt-br/central-de- conteudo/publicacoes/arquivos/aplicacao-da-lai-2019.pdf  Decisões da CGU e da CMRI  http://buscaprecedentes.cgu.gov.br/busca/SitePages/principal.aspx   Busca de Pedidos e Respostas da LAI:  https://www.gov.br/acessoainformacao/pt-br/assuntos/busca-de-pedidos-e- respostas/busca-de-pedidos-e-respostas                          Documento assinado eletronicamente por WALTER BARBOSA VITOR, Analista Administrativo, em 04/10/2021, às 17:53, conforme horário oficial de Brasília, com fundamento no § 3º do art. 4º do Decreto nº 10.543, de 13 de novembro de 2020.  Documento assinado eletronicamente por RENATA ALVES DE FIGUEIREDO, Coordenador-Geral de Recursos de Acesso à Informação, em 04/10/2021, às 17:55, conforme horário oficial de Brasília, com fundamento no § 3º do art. 4º do Decreto nº 10.543, de 13 de novembro de 2020.  Documento assinado eletronicamente por VALMIR GOMES DIAS, Ouvidor-Geral da União, em 04/10/2021, às 17:56, conforme horário oficial de Brasília, com fundamento no § 3º do art. 4º do Decreto nº 10.543, de 13 de novembro de 2020.  Documento assinado eletronicamente por ISABELLA BRITO, Chefe de Serviço de Análise e Gestão de Recursos, em 04/10/2021, às 18:04, conforme horário oficial de Brasília, com fundamento no § 3º do art. 4º do Decreto nº 10.543, de 13 de novembro de 2020.   A autenticidade deste documento pode ser conferida no site  https://sei.cgu.gov.br/conferir informando o código verificador 2108632 e o código CRC 7C2D8514 Referência: Processo nº 00137.010897/2021-77 SEI nº 2108632  Parecer - Recurso de 3ª Instância 1167 (2108632)         SEI 00137.010897/2021-77 / pg. 11  https://www.gov.br/acessoainformacao/pt-br https://www.gov.br/acessoainformacao/pt-br/central-de-conteudo/publicacoes/arquivos/aplicacao-da-lai-2019.pdf http://buscaprecedentes.cgu.gov.br/busca/SitePages/principal.aspx https://www.gov.br/acessoainformacao/pt-br/assuntos/busca-de-pedidos-e-respostas/busca-de-pedidos-e-respostas  \\tParecer - Recurso de 3ª Instância 1167 (2108632)  ', ' ')\n",
      "------\n",
      "('   No exercício das atribuições a mim conferidas pelo Decreto nº 9.681, de  03 de janeiro de 2019, adoto, como fundamento deste ato, nos termos do art. 23 do Decreto nº 7.724/2012, o parecer anexo, para decidir pelo\\u202fprovimento\\u202fdo recurso interposto, no âmbito do pedido de informação 00137.022808/2020- 54, direcionado ao Gabinete de Segurança Institucional da Presidência da República - GSI/PR.   O órgão deverá, no prazo de 20 (vinte) dias, a contar da publicação desta decisão, disponibilizar os dados relativos aos registros de horários de entrada, de saída e de destino dentro das dependências do Palácio do Planalto, do período de 01/01/2020 até 11/01/2021, relativo às seis pessoas mencionadas no requerimento inicial.  A informação ou o comprovante de entrega deverá ser postado diretamente na Plataforma Fala.BR, na aba “Cumprimento de Decisão”, no prazo acima mencionado.    VALMIR GOMES DIAS Ouvidor-Geral da União      Entenda a decisão da CGU:  Não conhecimento - O recurso não foi analisado no mérito pela CGU, pois não atende a algum requisito que permita essa análise: a informação foi declarada inexistente pelo órgão, o pedido não pode ser atendido por meio da Lei de Acesso à Informação, a informação está classificada, entre outros.  Perda (parcial) do objeto - A informação solicitada (ou parte dela) foi disponibilizada pelo órgão antes da decisão da CGU, usualmente por e-mail. A perda do objeto do recurso também é reconhecida nos casos em queo órgão se compromete a disponibilizar a informação solicitada (ou parte dela)ao requerente em ocasião futura, indicando prazo, local e modo de acesso.  Desprovimento -O acesso à informação solicitada não é possível, uma vez que as razões apresentadas pelo órgão para negativa de acesso possuem fundamento legal.  Provimento (parcial) – A CGU determinou a entrega da informação (ou de parte dela) ao cidadão.    Conheça mais sobre a Lei de Acesso à Informação:  Portal “Acesso à Informação”  https://www.gov.br/acessoainformacao/pt-br   Publicação “Aplicação da Lei de Acesso à Informação na Administração Pública Federal”  https://www.gov.br/acessoainformacao/pt-br/central-de- conteudo/publicacoes/arquivos/aplicacao-da-lai-2019.pdf  Decisões da CGU e da CMRI  http://buscaprecedentes.cgu.gov.br/busca/SitePages/principal.aspx   Busca de Pedidos e Respostas da LAI:  https://www.gov.br/acessoainformacao/pt-br/assuntos/busca-de-pedidos-e- respostas/busca-de-pedidos-e-respostas             Documento assinado eletronicamente por FABIANA NEPOMUCENO DA CUNHA, Servidora Requisitada, em 23/03/2021, às 14:53, conforme horário oficial de Brasília, com fundamento no art. 6º, §1º, do Decreto nº 8.539, de 08 de outubro de 2015.  Documento assinado eletronicamente por RENATA ALVES DE FIGUEIREDO, Coordenador-Geral de Recursos de Acesso à Informação, em 23/03/2021, às 15:09, conforme horário oficial de Brasília, com fundamento no art. 6º, §1º, do Decreto nº 8.539, de 08 de outubro de 2015.  Documento assinado eletronicamente por VALMIR GOMES DIAS, Ouvidor-Geral da União, em 23/03/2021, às 15:40, conforme horário oficial de Brasília, com fundamento no art. 6º, §1º, do Decreto nº 8.539, de 08 de outubro de 2015.   A autenticidade deste documento pode ser conferida no site  https://sei.cgu.gov.br/conferir informando o código verificador 1853568 e o código CRC 2A8D403C Referência: Processo nº 00137.022808/2020-54 SEI nº 1853568  Parecer - Recurso de terceira instância 241 (1853568)         SEI 00137.022808/2020-54 / pg. 4  https://www.gov.br/acessoainformacao/pt-br https://www.gov.br/acessoainformacao/pt-br/central-de-conteudo/publicacoes/arquivos/aplicacao-da-lai-2019.pdf http://buscaprecedentes.cgu.gov.br/busca/SitePages/principal.aspx https://www.gov.br/acessoainformacao/pt-br/assuntos/busca-de-pedidos-e-respostas/busca-de-pedidos-e-respostas  \\tParecer - Recurso de terceira instância 241 (1853568)  ', ' ')\n",
      "------\n",
      "(' No exercício das atribuições a mim conferidas pelo Decreto nº 9.681, de 03 de janeiro de 2019, adoto, como fundamento deste ato, nos termos do art. 23 do Decreto nº 7.724/2012, o parecer anexo, para decidir pelo provimento\\u202fdo recurso interposto, no âmbito do pedido de informação 00137.003633/2021- 67, direcionado ao Gabinete de Segurança Institucional da Presidência da República - GSI/PR.  O órgão deverá, no prazo de 20 (vinte) dias, a contar da publicação desta decisão, disponibilizar o acesso aos registros de entrada e saída ao Palácio do Planalto, entre os dias 20 de junho de 2020 e 25 de fevereiro de 2021, relativos ao indivíduo citado no pedido inicial. Deverão ser detalhados as datas e os horários em que ocorreram os registros, o nome do agente público que autorizou a entrada do indivíduo e os nomes dos órgãos visitados. A informação deverá ser postada diretamente na Plataforma Fala.BR, na aba “Cumprimento de Decisão”, no prazo acima mencionado.     VALMIR GOMES DIAS Ouvidor-Geral da União      Entenda a decisão da CGU:   Não conhecimento - O recurso não foi analisado no mérito pela CGU, pois não atende a algum requisito que permita essa análise: a informação foi declarada inexistente pelo órgão, o pedido não pode ser atendido por meio da Lei de Acesso à Informação, a informação está classificada, entre outros.   Perda (parcial) do objeto - A informação solicitada (ou parte dela) foi disponibilizada pelo órgão antes da decisão da CGU, usualmente por e-mail. A perda do objeto do recurso também é reconhecida nos casos em que\\u202fo órgão se compromete a disponibilizar a informação solicitada (ou parte dela)\\u202fao requerente em ocasião futura, indicando prazo, local e modo de acesso.   Desprovimento - O acesso à informação solicitada não é possível, uma vez que as razões apresentadas pelo órgão para negativa de acesso possuem fundamento legal.   Provimento (parcial) – A CGU determinou a entrega da informação (ou de parte dela) ao cidadão.      Conheça mais sobre a Lei de Acesso à Informação:   Portal “Acesso à Informação”  https://www.gov.br/acessoainformacao/pt-br       Publicação “Aplicação da Lei de Acesso à Informação na Administração Pública Federal”   https://www.gov.br/acessoainformacao/pt-br/central-de-conteudo/publicacoes/arquivos/aplicacao- da-lai-2019.pdf      Decisões da CGU e da CMRI   http://buscaprecedentes.cgu.gov.br/busca/SitePages/principal.aspx       Busca de Pedidos e Respostas da LAI:   https://www.gov.br/acessoainformacao/pt-br/assuntos/busca-de-pedidos-e-respostas/busca-de- pedidos-e-respostas       Parecer - Recurso de 3ª Instância 395 (1900000)         SEI 00137.003633/2021-67 / pg. 7  https://www.gov.br/acessoainformacao/pt-br https://www.gov.br/acessoainformacao/pt-br/central-de-conteudo/publicacoes/arquivos/aplicacao-da-lai-2019.pdf http://buscaprecedentes.cgu.gov.br/busca/SitePages/principal.aspx https://www.gov.br/acessoainformacao/pt-br/assuntos/busca-de-pedidos-e-respostas/busca-de-pedidos-e-respostas   Documento assinado eletronicamente por JORGE ANDRE FERREIRA FONTELLES DE LIMA, Auditor Federal de Finanças e Controle, em 07/05/2021, às 04:58, conforme horário oficial de Brasília, com fundamento no art. 6º, §1º, do Decreto nº 8.539, de 08 de outubro de 2015.  Documento assinado eletronicamente por RENATA ALVES DE FIGUEIREDO, Coordenador-Geral de Recursos de Acesso à Informação, em 07/05/2021, às 11:40, conforme horário oficial de Brasília, com fundamento no art. 6º, §1º, do Decreto nº 8.539, de 08 de outubro de 2015.  Documento assinado eletronicamente por VALMIR GOMES DIAS, Ouvidor-Geral da União, em 07/05/2021, às 15:26, conforme horário oficial de Brasília, com fundamento no art. 6º, §1º, do Decreto nº 8.539, de 08 de outubro de 2015.   A autenticidade deste documento pode ser conferida no site  https://sei.cgu.gov.br/conferir informando o código verificador 1900000 e o código CRC CB6E9CCD Referência: Processo nº 00137.003633/2021-67 SEI nº 1900000  Parecer - Recurso de 3ª Instância 395 (1900000)         SEI 00137.003633/2021-67 / pg. 8   \\tParecer - Recurso de 3ª Instância 395 (1900000)  ', ' ')\n"
     ]
    }
   ],
   "source": [
    "for a in list_of_contents:\n",
    "    print('------')\n",
    "    print(a)"
   ]
  },
  {
   "cell_type": "code",
   "execution_count": 214,
   "id": "47844343",
   "metadata": {},
   "outputs": [],
   "source": [
    "import pandas as pd\n",
    "\n",
    "df = pd.DataFrame(list_of_contents)\n",
    "df.to_csv('decisoes_da_cgu_que_citam_lgpd.csv', sep = ';')"
   ]
  },
  {
   "cell_type": "code",
   "execution_count": null,
   "id": "efb808b9",
   "metadata": {},
   "outputs": [],
   "source": []
  },
  {
   "cell_type": "code",
   "execution_count": null,
   "id": "50e2118f",
   "metadata": {},
   "outputs": [],
   "source": []
  },
  {
   "cell_type": "code",
   "execution_count": null,
   "id": "7bc73568",
   "metadata": {},
   "outputs": [],
   "source": []
  },
  {
   "cell_type": "code",
   "execution_count": null,
   "id": "1d1810b7",
   "metadata": {},
   "outputs": [],
   "source": []
  },
  {
   "cell_type": "code",
   "execution_count": null,
   "id": "993bac7d",
   "metadata": {},
   "outputs": [],
   "source": []
  },
  {
   "cell_type": "code",
   "execution_count": null,
   "id": "4669910e",
   "metadata": {},
   "outputs": [],
   "source": []
  },
  {
   "cell_type": "code",
   "execution_count": null,
   "id": "5dc61aab",
   "metadata": {},
   "outputs": [],
   "source": []
  },
  {
   "cell_type": "code",
   "execution_count": null,
   "id": "32b84f85",
   "metadata": {},
   "outputs": [],
   "source": []
  },
  {
   "cell_type": "code",
   "execution_count": null,
   "id": "7e0054b2",
   "metadata": {},
   "outputs": [],
   "source": []
  }
 ],
 "metadata": {
  "kernelspec": {
   "display_name": "Python 3 (ipykernel)",
   "language": "python",
   "name": "python3"
  },
  "language_info": {
   "codemirror_mode": {
    "name": "ipython",
    "version": 3
   },
   "file_extension": ".py",
   "mimetype": "text/x-python",
   "name": "python",
   "nbconvert_exporter": "python",
   "pygments_lexer": "ipython3",
   "version": "3.9.7"
  }
 },
 "nbformat": 4,
 "nbformat_minor": 5
}
