{
 "cells": [
  {
   "cell_type": "code",
   "execution_count": 1,
   "id": "f6a4f537",
   "metadata": {},
   "outputs": [
    {
     "name": "stderr",
     "output_type": "stream",
     "text": [
      "/Users/luizfernandotoledo/.pyenv/versions/3.9.7/lib/python3.9/site-packages/pandas/compat/__init__.py:124: UserWarning: Could not import the lzma module. Your installed Python is incomplete. Attempting to use lzma compression will result in a RuntimeError.\n",
      "  warnings.warn(msg)\n"
     ]
    }
   ],
   "source": [
    "# import everything that I will use\n",
    "import re\n",
    "import pandas as pd\n",
    "import time\n",
    "from selenium import webdriver\n",
    "from selenium.webdriver.common.keys import Keys\n",
    "from selenium.webdriver.common.by import By\n",
    "from selenium.webdriver.support import expected_conditions as EC\n",
    "from selenium.webdriver.support.ui import Select\n",
    "from webdriver_manager.chrome import ChromeDriverManager\n",
    "from selenium.webdriver.support.ui import WebDriverWait\n",
    "from datetime import date\n",
    "import datetime\n",
    "import requests\n",
    "from tqdm.auto import tqdm\n",
    "\n",
    "\n"
   ]
  },
  {
   "cell_type": "code",
   "execution_count": 2,
   "id": "bce02d2e",
   "metadata": {},
   "outputs": [
    {
     "name": "stderr",
     "output_type": "stream",
     "text": [
      "\n",
      "\n",
      "====== WebDriver manager ======\n",
      "Current google-chrome version is 96.0.4664\n",
      "Get LATEST chromedriver version for 96.0.4664 google-chrome\n",
      "Trying to download new driver from https://chromedriver.storage.googleapis.com/96.0.4664.45/chromedriver_mac64.zip\n",
      "Driver has been saved in cache [/Users/luizfernandotoledo/.wdm/drivers/chromedriver/mac64/96.0.4664.45]\n",
      "/var/folders/dj/5c61qy0d0b9gcj0yrt1jd2300000gn/T/ipykernel_50410/1903745058.py:2: DeprecationWarning: executable_path has been deprecated, please pass in a Service object\n",
      "  driver = webdriver.Chrome(ChromeDriverManager().install())\n"
     ]
    }
   ],
   "source": [
    "#open Selenium Chrome webdriver\n",
    "driver = webdriver.Chrome(ChromeDriverManager().install())"
   ]
  },
  {
   "cell_type": "code",
   "execution_count": 3,
   "id": "01ece384",
   "metadata": {},
   "outputs": [],
   "source": [
    "#find a link that gives me the last 30 days FOIA requests with the keyword 'Bolsonaro'\n",
    "# if you want to change the keyword, just change the variable search_words\n",
    "\n",
    "# creating a link\n",
    "keyword = 'bolsonaro'\n",
    "today = date.today()\n",
    "days = datetime.timedelta(30)\n",
    "thirty_days_ago = today - days\n",
    "thirty_days_ago = str(thirty_days_ago)\n",
    "year_regex = r\"(\\d\\d\\d\\d)-\"\n",
    "year_only = re.findall(year_regex, thirty_days_ago)[0]\n",
    "month_regex = r\".....(..)\"\n",
    "month_only = re.findall(month_regex, thirty_days_ago)[0]\n",
    "day_regex = r\"........(..)\"\n",
    "day_only = re.findall(day_regex, thirty_days_ago)[0]\n",
    "\n",
    "\n",
    "### gambiarra monstra pra pegar a URL pq ainda to aprendendo, rs\n",
    "useful_link1 = 'http://www.consultaesic.cgu.gov.br/busca/SitePages/resultadopesquisa.aspx?k=ALL('\n",
    "useful_link2 = keyword\n",
    "useful_link3 = ')%20DataPedido%3E%3D'\n",
    "useful_link4 = day_only\n",
    "useful_link5 = '%2F'\n",
    "useful_link6 = month_only\n",
    "useful_link7 = '%2F'\n",
    "useful_link8 = year_only\n",
    "\n",
    "useful_link = useful_link1 + useful_link2 + useful_link3 + useful_link4 + useful_link5 + useful_link6 + useful_link7 + useful_link8  \n"
   ]
  },
  {
   "cell_type": "code",
   "execution_count": 4,
   "id": "b9de99e6",
   "metadata": {},
   "outputs": [],
   "source": [
    "#driver opens the link needed in order to find all FOIA requests\n",
    "\n",
    "driver.get(useful_link)\n",
    " "
   ]
  },
  {
   "cell_type": "code",
   "execution_count": 5,
   "id": "9d238de0",
   "metadata": {},
   "outputs": [
    {
     "data": {
      "application/vnd.jupyter.widget-view+json": {
       "model_id": "d4b6ef56afb341f2b3990debe512e2d2",
       "version_major": 2,
       "version_minor": 0
      },
      "text/plain": [
       "  0%|          | 0/100 [00:00<?, ?it/s]"
      ]
     },
     "metadata": {},
     "output_type": "display_data"
    }
   ],
   "source": [
    "#step one: create a list with links from all the pages\n",
    "\n",
    "\n",
    "list_of_links = []\n",
    "#try to open up to 100 pages in order to find those links\n",
    "for i in tqdm(range(100)):\n",
    "    for pedido in driver.find_elements(By.CLASS_NAME, 'ms-srch-ellipsis'):\n",
    "        links = pedido.find_elements(By.TAG_NAME, 'a')\n",
    "        for link in links:\n",
    "            caso = link.get_attribute('href')\n",
    "            list_of_links.append(caso)\n",
    "    #click on the next page\n",
    "    try:\n",
    "        driver.find_element(By.XPATH, '//*[@id=\"PageLinkNext\"]').click()\n",
    "        time.sleep(2)\n",
    "    except:\n",
    "        break\n"
   ]
  },
  {
   "cell_type": "code",
   "execution_count": 6,
   "id": "554dd2ee",
   "metadata": {},
   "outputs": [
    {
     "data": {
      "text/plain": [
       "['http://www.consultaesic.cgu.gov.br/busca/dados/Lists/Pedido/DispForm.aspx?ID=1595343',\n",
       " 'http://www.consultaesic.cgu.gov.br/busca/dados/Lists/Pedido/DispForm.aspx?ID=1595209',\n",
       " 'http://www.consultaesic.cgu.gov.br/busca/dados/Lists/Pedido/DispForm.aspx?ID=1595340',\n",
       " 'http://www.consultaesic.cgu.gov.br/busca/dados/Lists/Pedido/DispForm.aspx?ID=1595282',\n",
       " 'http://www.consultaesic.cgu.gov.br/busca/dados/Lists/Pedido/DispForm.aspx?ID=1591834',\n",
       " 'http://www.consultaesic.cgu.gov.br/busca/dados/Lists/Pedido/DispForm.aspx?ID=1594134',\n",
       " 'http://www.consultaesic.cgu.gov.br/busca/dados/Lists/Pedido/DispForm.aspx?ID=1594907',\n",
       " 'http://www.consultaesic.cgu.gov.br/busca/dados/Lists/Pedido/DispForm.aspx?ID=1592942',\n",
       " 'http://www.consultaesic.cgu.gov.br/busca/dados/Lists/Pedido/DispForm.aspx?ID=1592742',\n",
       " 'http://www.consultaesic.cgu.gov.br/busca/dados/Lists/Pedido/DispForm.aspx?ID=1594376',\n",
       " 'http://www.consultaesic.cgu.gov.br/busca/dados/Lists/Pedido/DispForm.aspx?ID=1592345']"
      ]
     },
     "execution_count": 6,
     "metadata": {},
     "output_type": "execute_result"
    }
   ],
   "source": [
    "#check if we've got everything\n",
    "list_of_links\n",
    "# count_content = len(list_of_contents)\n",
    "\n",
    "# print(f'There are {count_link} links and {count_content} contents.')"
   ]
  },
  {
   "cell_type": "code",
   "execution_count": 7,
   "id": "be396487",
   "metadata": {},
   "outputs": [
    {
     "data": {
      "application/vnd.jupyter.widget-view+json": {
       "model_id": "674369325d6443839fbba1a02aebf9bc",
       "version_major": 2,
       "version_minor": 0
      },
      "text/plain": [
       "  0%|          | 0/11 [00:00<?, ?it/s]"
      ]
     },
     "metadata": {},
     "output_type": "display_data"
    },
    {
     "data": {
      "text/plain": [
       "[['Motociata Bolsonaro - Pedido 08198036667202125',\n",
       "  'http://www.consultaesic.cgu.gov.br/busca/_layouts/15/DetalhePedido/DetalhePedido.aspx?nup=08198036667202125',\n",
       "  'Com base no artigo 5º (XXXIII) da Constituição Federal e nos artigos 10, 11 e 12 da Lei nº 12.527/2011, a Lei Geral de Acesso a Informações Públicas, solicito a seguinte informação: valor total dos gastos com diárias, alimentação, combustível, e qualquer outro recurso necessário para reforçar o policiamento da motociata do presidente Jair Bolsonaro, no dia 9 de maio, em Brasília, assim como o número do efetivo reforçado.'],\n",
       " ['Transmissão eventos EBC - Pedido 53125001689202182',\n",
       "  'http://www.consultaesic.cgu.gov.br/busca/_layouts/15/DetalhePedido/DetalhePedido.aspx?nup=53125001689202182',\n",
       "  'Bom dia, visto que nos últimos tempos a EBC tem passado por inúmeras mudanças, inclusive com a extinção da NBR e incorporação de algumas de suas características pela Tv Brasil venho através desse requerimento pedir esclarecimento acerca das interrupções na programação da Tv Brasil para exibição de eventos e atividades com o Presidente da República. Visto que A TV pública começou a ter muitos conteúdos de governo, que não satisfazem os quesitos de interesse público. Por exemplo, entrega de boinas para alunos de um colégio militar, formaturas, eventos religiosos, entrega de obras, duplicação de trecho de rodovia, para citar alguns dos casos e que tal tipo de evento pode até ser de interesse da comunicação governamental, mas não é de interesse público, então não deveria estar na comunicação pública gostaria de solicitar a totalidade de atividades exibidas pela Tv Brasil e o valor, haja visto que há deslocamento de equipes e utilização de satélite. E se o valor gasto com tais transmissões vem do ministério ou da própria EBC. Grato.'],\n",
       " ['Motociata Paraná - Pedido 00137020260202199',\n",
       "  'http://www.consultaesic.cgu.gov.br/busca/_layouts/15/DetalhePedido/DetalhePedido.aspx?nup=00137020260202199',\n",
       "  'Com base no artigo 5º (XXXIII) da Constituição Federal e nos artigos 10, 11 e 12 da Lei nº 12.527/2011, a Lei Geral de Acesso a Informações Públicas, solicito a seguinte informação: valor total dos gastos realizados em motociata no Paraná, no dia 6 de novembro, pelo presidente Jair Bolsonaro e sua comitiva, discriminando os gastos por área (hospedagem, combustível, alimentação, etc).'],\n",
       " [' - Pedido 48003007432202181',\n",
       "  'http://www.consultaesic.cgu.gov.br/busca/_layouts/15/DetalhePedido/DetalhePedido.aspx?nup=48003007432202181',\n",
       "  'Solicito acesso as providencias relativas ao OFÍCIO Nº 1176/2021/GPPR-AGENDA/GPPR de Brasília, 8 de setembro de 2021. Destinadas Ao Senhor - José Roberto Bueno Junior Referência: Caso responda este Ofício, indicar expressamente o Processo nº 00047.001787/2021-23 Agradecemos a atenção. Paulo Pereira (51) 981220083 - paulo.pereira.sul@gmail.com'],\n",
       " ['Voos da FAB - Pedido 03005233291202100',\n",
       "  'http://www.consultaesic.cgu.gov.br/busca/_layouts/15/DetalhePedido/DetalhePedido.aspx?nup=03005233291202100',\n",
       "  'Boa noite. Solicito a descrição de alguns itens sobre voos oficiais com aviões da FAB nesse ano. Peço que a data atualizada de resposta seja com dados até a data de resposta enviada aqui via LAI. Peço que seja descrito origem e destino, data e eventual motivação (se existir registro). Peço que seja especificado ao lado quem foi o solicitante do voo. Peço também a relação de passageiros nos voos. E, por fim, o custo da viagem. Peço, mais especificamente, detalhes sobre o avião FAB2582! Após trazer o ministro Paulo Guedes no dia 11/11, ele não tem registro de saída do Brasil. Apenas consta chegando à Nova York. Peço os registros do voo de ida do Brasil para Nova York, o dia, horário e quem foi levado no avião. Peço também a justificativa para o voo ter parado em um aeroporto doméstico, no aeroporto Mac Arthur, de Long Island e por quanto tempo ele ficou ali.'],\n",
       " ['Autoria de relatório - Pedido 08198036590202193',\n",
       "  'http://www.consultaesic.cgu.gov.br/busca/_layouts/15/DetalhePedido/DetalhePedido.aspx?nup=08198036590202193',\n",
       "  'Prezados, venho requerer, com fundamento na Constituição Federal e na Lei de Acesso à Informação, acesso à informação sobre o significado da sigla \"DAM II\", que consta como sendo a autoria do documento 9400831 do processo SEI 08007.003961/2019-36. conforme anexo.'],\n",
       " ['Produção de biodiesel Pronaf - Pedido 21210015332202126',\n",
       "  'http://www.consultaesic.cgu.gov.br/busca/_layouts/15/DetalhePedido/DetalhePedido.aspx?nup=21210015332202126',\n",
       "  'Gostaria de obter a participação dos agricultores familiares enquadrados no Pronaf na produção nacional total de biodiesel. Ou seja, quanto em % eles produzem considerando-se o total da produção nacional de biodiesel?'],\n",
       " ['acesso - Pedido 25072032776202117',\n",
       "  'http://www.consultaesic.cgu.gov.br/busca/_layouts/15/DetalhePedido/DetalhePedido.aspx?nup=25072032776202117',\n",
       "  'Peço acesso à íntegra do Processo SEI 25000.124392/2021-65 e do PRocesso SEI 25000.103348/2021-11'],\n",
       " ['Regulamentação da Lei 14.166, de 10 de junho de 2021 - Pedido 59011000053202187',\n",
       "  'http://www.consultaesic.cgu.gov.br/busca/_layouts/15/DetalhePedido/DetalhePedido.aspx?nup=59011000053202187',\n",
       "  'Prezados, gostaria de saber se há algum normativo do Ministério do Desenvolvimento Regional e/ou do BASA regulamentando a renegociação extraordinária de débitos no âmbito do Fundo Constitucional de Financiamento do Norte prevista na Lei nº 14.166, de 10 de junho de 2021. Caso haja, qual(is) é/são?'],\n",
       " ['uso de recursos federais para apae - Pedido 71003100014202183',\n",
       "  'http://www.consultaesic.cgu.gov.br/busca/_layouts/15/DetalhePedido/DetalhePedido.aspx?nup=71003100014202183',\n",
       "  'Gostaria de saber se há um caderno de orientações especifico para os recursos federais para serem utilizados na APAE. Nosso municipio (eldorado do Sul) não faz nenhum tipo de trabalho com as pessoas portadoras de deficiencia, não atende as mesmas e estamos estudando a transferencia desses recursos para programas de re-habilitação das pessoas com deficiencia. Poderiam nos ajudar? Grato'],\n",
       " ['Acesso aos dados - Pedido 03005227873202149',\n",
       "  'http://www.consultaesic.cgu.gov.br/busca/_layouts/15/DetalhePedido/DetalhePedido.aspx?nup=03005227873202149',\n",
       "  'Prezados, Gostaria de ter acesso aos estudos e dados brutos que fundamentam a afirmação de que houve uma \"redução de R$ 400 Bilhões no custo de fazer negócios\" (disponível em https://twitter.com/EconomiaSepec/status/1458172036044529675?ref_src=twsrc%5Etfw%7Ctwcamp%5Etweetembed%7Ctwterm%5E1458172036044529675%7Ctwgr%5E%7Ctwcon%5Es1_ref_url=https%3A%2F%2Fwww.gov.br%2Fprodutividade-e-comercio-exterior%2Fpt-br%2Fprodutividade-e-competitividade). Em especial, gostaria de ter acesso: (i) às definições utilizadas para definir o \"custo de fazer negócios\"; (ii) aos parâmetros utilizados para definir o \"custo de fazer negócios\" antes e depois das medidas adotadas para sua redução; (iii) aos estudos utilizados para circunscrever o \"custo de fazer negócio\" e as alternativas para lidar com eles, que considere a motivação para a seleção de cada opção administrativa, segundo critério de custo-benefício ou outro aplicável, considerando também seus eventuais impactos negativos; (iv) à lista das medidas efetivamente adotadas para a redução do \"custo de fazer negócio\", com data-base de sua implementação; (v) à memória de cálculo com o impacto financeiro individualizado de cada medida adotada para a redução do \"custo de fazer negócio\"; e (vi) a identificação de todas as fontes de dados, de forma individualizada e verificável, relativa a cada medida adotada para a redução do \"custo de fazer negócio\". Agradeço muito a atenção desde já.']]"
      ]
     },
     "execution_count": 7,
     "metadata": {},
     "output_type": "execute_result"
    }
   ],
   "source": [
    "# create a list and fill it with request title, request link and request text\n",
    "\n",
    "\n",
    "lista_de_pedidos = []\n",
    "for link in tqdm(list_of_links):\n",
    "    lista_do_pedido = []\n",
    "    driver.get(link)\n",
    "    resumao = driver.find_element(By.XPATH, '/html/body/form/div[4]/div[10]/div[1]/div[2]/div/div[2]/div[2]/div[1]/table/tbody/tr/td/div/div[3]/div[1]/div/div[1]/span/div[2]/div/div[2]/div/div/div/div[2]/div[1]/div/div/fieldset/div/div[1]/span/textarea')\n",
    "    lista_do_pedido.append(resumao.text)\n",
    "    link_do_pedido = driver.find_element(By.XPATH, '/html/body/form/div[4]/div[10]/div[1]/div[2]/div/div[2]/div[2]/div[1]/table/tbody/tr/td/div/div[3]/div[1]/div/div[1]/span/div[2]/div/div[2]/div/div/div/div[2]/div[2]/div/div/fieldset/div/div[3]/table/tbody/tr/td[2]/div/span/textarea')\n",
    "    lista_do_pedido.append(link_do_pedido.text)\n",
    "    texto_do_pedido = driver.find_element(By.XPATH, '/html/body/form/div[4]/div[10]/div[1]/div[2]/div/div[2]/div[2]/div[1]/table/tbody/tr/td/div/div[3]/div[1]/div/div[1]/span/div[2]/div/div[2]/div/div/div/div[2]/div[4]/div/div/fieldset/div/div/table/tbody/tr/td[2]/div[1]/span/div')\n",
    "    lista_do_pedido.append(texto_do_pedido.text)\n",
    "    lista_de_pedidos.append(lista_do_pedido)\n",
    "\n",
    "lista_de_pedidos\n"
   ]
  },
  {
   "cell_type": "code",
   "execution_count": 8,
   "id": "4891b30c",
   "metadata": {},
   "outputs": [],
   "source": [
    "import pandas\n",
    "\n",
    "df = pd.DataFrame(lista_de_pedidos, columns = ['resumo', 'link', 'texto_do_pedido'])\n",
    "\n",
    "df.to_csv('lista_de_pedidos.csv')\n",
    "\n"
   ]
  }
 ],
 "metadata": {
  "kernelspec": {
   "display_name": "Python 3 (ipykernel)",
   "language": "python",
   "name": "python3"
  },
  "language_info": {
   "codemirror_mode": {
    "name": "ipython",
    "version": 3
   },
   "file_extension": ".py",
   "mimetype": "text/x-python",
   "name": "python",
   "nbconvert_exporter": "python",
   "pygments_lexer": "ipython3",
   "version": "3.9.7"
  }
 },
 "nbformat": 4,
 "nbformat_minor": 5
}
